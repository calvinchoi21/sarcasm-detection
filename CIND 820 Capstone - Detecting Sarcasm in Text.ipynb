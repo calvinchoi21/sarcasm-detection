{
 "cells": [
  {
   "cell_type": "markdown",
   "metadata": {},
   "source": [
    "# Detecting Sarcasm in Text\n",
    "### Calvin Choi\n",
    "\n",
    "The purpose of this project to the develop a model that can accurately discern sarcastic comments when provided the raw text. The process includes parsing the text, engineering informative features and applying text preprocessing before using classification algorithms to classify the text.\n",
    "\n",
    "The data used in this study includes a pre-labelled dataset downloaded from Kaggle. As per the author, the dataset contains sarcastic and non-sarcastic comments, labelled as 1 and 0 respectively, that was scraped from Reddit. To accurately identify sarcasm in the comments, the author relied on the Reddit-specific tag /s which users typically utilize to designate sarcasm in their comment. The dataset includes 1,010,774 comments and attributes related to each comment, such as the number of likes, the date it was made, the parent comment, etc. In addition, the original dataset includes a perfect class balance between sarcastic and non-sarcastic comments."
   ]
  },
  {
   "cell_type": "code",
   "execution_count": 1,
   "metadata": {},
   "outputs": [],
   "source": [
    "import numpy as np\n",
    "import pandas as pd\n",
    "pd.set_option('display.float_format', lambda x: '%.4f' % x)\n",
    "import matplotlib.pyplot as plt\n",
    "import seaborn as sns\n",
    "%matplotlib inline"
   ]
  },
  {
   "cell_type": "code",
   "execution_count": 2,
   "metadata": {},
   "outputs": [],
   "source": [
    "reddit = pd.read_csv('train-balanced-sarcasm.csv')"
   ]
  },
  {
   "cell_type": "code",
   "execution_count": 3,
   "metadata": {},
   "outputs": [
    {
     "data": {
      "text/html": [
       "<div>\n",
       "<style scoped>\n",
       "    .dataframe tbody tr th:only-of-type {\n",
       "        vertical-align: middle;\n",
       "    }\n",
       "\n",
       "    .dataframe tbody tr th {\n",
       "        vertical-align: top;\n",
       "    }\n",
       "\n",
       "    .dataframe thead th {\n",
       "        text-align: right;\n",
       "    }\n",
       "</style>\n",
       "<table border=\"1\" class=\"dataframe\">\n",
       "  <thead>\n",
       "    <tr style=\"text-align: right;\">\n",
       "      <th></th>\n",
       "      <th>label</th>\n",
       "      <th>comment</th>\n",
       "      <th>author</th>\n",
       "      <th>subreddit</th>\n",
       "      <th>score</th>\n",
       "      <th>ups</th>\n",
       "      <th>downs</th>\n",
       "      <th>date</th>\n",
       "      <th>created_utc</th>\n",
       "      <th>parent_comment</th>\n",
       "    </tr>\n",
       "  </thead>\n",
       "  <tbody>\n",
       "    <tr>\n",
       "      <th>0</th>\n",
       "      <td>0</td>\n",
       "      <td>NC and NH.</td>\n",
       "      <td>Trumpbart</td>\n",
       "      <td>politics</td>\n",
       "      <td>2</td>\n",
       "      <td>-1</td>\n",
       "      <td>-1</td>\n",
       "      <td>2016-10</td>\n",
       "      <td>2016-10-16 23:55:23</td>\n",
       "      <td>Yeah, I get that argument. At this point, I'd ...</td>\n",
       "    </tr>\n",
       "    <tr>\n",
       "      <th>1</th>\n",
       "      <td>0</td>\n",
       "      <td>You do know west teams play against west teams...</td>\n",
       "      <td>Shbshb906</td>\n",
       "      <td>nba</td>\n",
       "      <td>-4</td>\n",
       "      <td>-1</td>\n",
       "      <td>-1</td>\n",
       "      <td>2016-11</td>\n",
       "      <td>2016-11-01 00:24:10</td>\n",
       "      <td>The blazers and Mavericks (The wests 5 and 6 s...</td>\n",
       "    </tr>\n",
       "    <tr>\n",
       "      <th>2</th>\n",
       "      <td>0</td>\n",
       "      <td>They were underdogs earlier today, but since G...</td>\n",
       "      <td>Creepeth</td>\n",
       "      <td>nfl</td>\n",
       "      <td>3</td>\n",
       "      <td>3</td>\n",
       "      <td>0</td>\n",
       "      <td>2016-09</td>\n",
       "      <td>2016-09-22 21:45:37</td>\n",
       "      <td>They're favored to win.</td>\n",
       "    </tr>\n",
       "    <tr>\n",
       "      <th>3</th>\n",
       "      <td>0</td>\n",
       "      <td>This meme isn't funny none of the \"new york ni...</td>\n",
       "      <td>icebrotha</td>\n",
       "      <td>BlackPeopleTwitter</td>\n",
       "      <td>-8</td>\n",
       "      <td>-1</td>\n",
       "      <td>-1</td>\n",
       "      <td>2016-10</td>\n",
       "      <td>2016-10-18 21:03:47</td>\n",
       "      <td>deadass don't kill my buzz</td>\n",
       "    </tr>\n",
       "    <tr>\n",
       "      <th>4</th>\n",
       "      <td>0</td>\n",
       "      <td>I could use one of those tools.</td>\n",
       "      <td>cush2push</td>\n",
       "      <td>MaddenUltimateTeam</td>\n",
       "      <td>6</td>\n",
       "      <td>-1</td>\n",
       "      <td>-1</td>\n",
       "      <td>2016-12</td>\n",
       "      <td>2016-12-30 17:00:13</td>\n",
       "      <td>Yep can confirm I saw the tool they use for th...</td>\n",
       "    </tr>\n",
       "  </tbody>\n",
       "</table>\n",
       "</div>"
      ],
      "text/plain": [
       "   label                                            comment     author  \\\n",
       "0      0                                         NC and NH.  Trumpbart   \n",
       "1      0  You do know west teams play against west teams...  Shbshb906   \n",
       "2      0  They were underdogs earlier today, but since G...   Creepeth   \n",
       "3      0  This meme isn't funny none of the \"new york ni...  icebrotha   \n",
       "4      0                    I could use one of those tools.  cush2push   \n",
       "\n",
       "            subreddit  score  ups  downs     date          created_utc  \\\n",
       "0            politics      2   -1     -1  2016-10  2016-10-16 23:55:23   \n",
       "1                 nba     -4   -1     -1  2016-11  2016-11-01 00:24:10   \n",
       "2                 nfl      3    3      0  2016-09  2016-09-22 21:45:37   \n",
       "3  BlackPeopleTwitter     -8   -1     -1  2016-10  2016-10-18 21:03:47   \n",
       "4  MaddenUltimateTeam      6   -1     -1  2016-12  2016-12-30 17:00:13   \n",
       "\n",
       "                                      parent_comment  \n",
       "0  Yeah, I get that argument. At this point, I'd ...  \n",
       "1  The blazers and Mavericks (The wests 5 and 6 s...  \n",
       "2                            They're favored to win.  \n",
       "3                         deadass don't kill my buzz  \n",
       "4  Yep can confirm I saw the tool they use for th...  "
      ]
     },
     "execution_count": 3,
     "metadata": {},
     "output_type": "execute_result"
    }
   ],
   "source": [
    "reddit.head()"
   ]
  },
  {
   "cell_type": "markdown",
   "metadata": {},
   "source": [
    "## 1. EDA\n",
    "\n",
    "Exploratory data analysis (EDA) will be conducted on the data to derive insight. The insight gained from this section will be used to drive feature engineering.  "
   ]
  },
  {
   "cell_type": "code",
   "execution_count": 4,
   "metadata": {},
   "outputs": [
    {
     "name": "stdout",
     "output_type": "stream",
     "text": [
      "<class 'pandas.core.frame.DataFrame'>\n",
      "RangeIndex: 1010826 entries, 0 to 1010825\n",
      "Data columns (total 10 columns):\n",
      " #   Column          Non-Null Count    Dtype \n",
      "---  ------          --------------    ----- \n",
      " 0   label           1010826 non-null  int64 \n",
      " 1   comment         1010773 non-null  object\n",
      " 2   author          1010826 non-null  object\n",
      " 3   subreddit       1010826 non-null  object\n",
      " 4   score           1010826 non-null  int64 \n",
      " 5   ups             1010826 non-null  int64 \n",
      " 6   downs           1010826 non-null  int64 \n",
      " 7   date            1010826 non-null  object\n",
      " 8   created_utc     1010826 non-null  object\n",
      " 9   parent_comment  1010826 non-null  object\n",
      "dtypes: int64(4), object(6)\n",
      "memory usage: 77.1+ MB\n"
     ]
    }
   ],
   "source": [
    "reddit.info()"
   ]
  },
  {
   "cell_type": "code",
   "execution_count": 5,
   "metadata": {},
   "outputs": [
    {
     "data": {
      "text/plain": [
       "1    505413\n",
       "0    505413\n",
       "Name: label, dtype: int64"
      ]
     },
     "execution_count": 5,
     "metadata": {},
     "output_type": "execute_result"
    }
   ],
   "source": [
    "reddit['label'].value_counts()"
   ]
  },
  {
   "cell_type": "markdown",
   "metadata": {},
   "source": [
    "The above numbers indicate that there is a perfect ratio of sarcastic to non-sarcastic comments in this dataset. As this is extremely rare in a real-world scenerio, it should be noted that the data presented at this point is simply what the authors of the data had provided."
   ]
  },
  {
   "cell_type": "code",
   "execution_count": 6,
   "metadata": {},
   "outputs": [
    {
     "data": {
      "text/plain": [
       "label              0\n",
       "comment           53\n",
       "author             0\n",
       "subreddit          0\n",
       "score              0\n",
       "ups                0\n",
       "downs              0\n",
       "date               0\n",
       "created_utc        0\n",
       "parent_comment     0\n",
       "dtype: int64"
      ]
     },
     "execution_count": 6,
     "metadata": {},
     "output_type": "execute_result"
    }
   ],
   "source": [
    "reddit.isnull().sum()"
   ]
  },
  {
   "cell_type": "markdown",
   "metadata": {},
   "source": [
    "There are 53 instances with null values under the comment feature, which will be removed from the dataset."
   ]
  },
  {
   "cell_type": "code",
   "execution_count": 7,
   "metadata": {},
   "outputs": [],
   "source": [
    "# Remove all rows is NA \n",
    "reddit = reddit[reddit['comment'].notna()]"
   ]
  },
  {
   "cell_type": "markdown",
   "metadata": {},
   "source": [
    " "
   ]
  },
  {
   "cell_type": "markdown",
   "metadata": {},
   "source": [
    "**Analyzing n-grams of Sarcastic Comments**\n",
    "\n",
    "Here bigrams and trigrams are extracted from the comment feature to gain understanding into what the most common two and three word combinations are with respect to sarcastic comments. This analysis also determines the feasibility of introducing a bag of ngrams as the input for the classification model, rather than a collection of unigrams."
   ]
  },
  {
   "cell_type": "code",
   "execution_count": 8,
   "metadata": {},
   "outputs": [],
   "source": [
    "# First remove stop words in the comments\n",
    "from nltk.corpus import stopwords\n",
    "stop = stopwords.words('english')"
   ]
  },
  {
   "cell_type": "code",
   "execution_count": 9,
   "metadata": {},
   "outputs": [],
   "source": [
    "reddit['comment_without_stopwords'] = reddit['comment'].apply(lambda x: ' '.join([word for word in x.split() if word not in (stop)]))"
   ]
  },
  {
   "cell_type": "code",
   "execution_count": 11,
   "metadata": {},
   "outputs": [
    {
     "data": {
      "text/html": [
       "<div>\n",
       "<style scoped>\n",
       "    .dataframe tbody tr th:only-of-type {\n",
       "        vertical-align: middle;\n",
       "    }\n",
       "\n",
       "    .dataframe tbody tr th {\n",
       "        vertical-align: top;\n",
       "    }\n",
       "\n",
       "    .dataframe thead th {\n",
       "        text-align: right;\n",
       "    }\n",
       "</style>\n",
       "<table border=\"1\" class=\"dataframe\">\n",
       "  <thead>\n",
       "    <tr style=\"text-align: right;\">\n",
       "      <th></th>\n",
       "      <th>bigrams</th>\n",
       "      <th>trigrams</th>\n",
       "    </tr>\n",
       "  </thead>\n",
       "  <tbody>\n",
       "    <tr>\n",
       "      <th>33</th>\n",
       "      <td>[(But, they'll), (they'll, reviews!)]</td>\n",
       "      <td>[(But, they'll, reviews!)]</td>\n",
       "    </tr>\n",
       "    <tr>\n",
       "      <th>44</th>\n",
       "      <td>[(wow, totally), (totally, unreasonable), (unr...</td>\n",
       "      <td>[(wow, totally, unreasonable), (totally, unrea...</td>\n",
       "    </tr>\n",
       "    <tr>\n",
       "      <th>45</th>\n",
       "      <td>[(Ho, ho), (ho, ho...), (ho..., But), (But, Me...</td>\n",
       "      <td>[(Ho, ho, ho...), (ho, ho..., But), (ho..., Bu...</td>\n",
       "    </tr>\n",
       "    <tr>\n",
       "      <th>66</th>\n",
       "      <td>[(I, can't), (can't, wait), (wait, @potus), (@...</td>\n",
       "      <td>[(I, can't, wait), (can't, wait, @potus), (wai...</td>\n",
       "    </tr>\n",
       "    <tr>\n",
       "      <th>69</th>\n",
       "      <td>[(gotta, love), (love, teachers), (teachers, g...</td>\n",
       "      <td>[(gotta, love, teachers), (love, teachers, giv...</td>\n",
       "    </tr>\n",
       "  </tbody>\n",
       "</table>\n",
       "</div>"
      ],
      "text/plain": [
       "                                              bigrams  \\\n",
       "33              [(But, they'll), (they'll, reviews!)]   \n",
       "44  [(wow, totally), (totally, unreasonable), (unr...   \n",
       "45  [(Ho, ho), (ho, ho...), (ho..., But), (But, Me...   \n",
       "66  [(I, can't), (can't, wait), (wait, @potus), (@...   \n",
       "69  [(gotta, love), (love, teachers), (teachers, g...   \n",
       "\n",
       "                                             trigrams  \n",
       "33                         [(But, they'll, reviews!)]  \n",
       "44  [(wow, totally, unreasonable), (totally, unrea...  \n",
       "45  [(Ho, ho, ho...), (ho, ho..., But), (ho..., Bu...  \n",
       "66  [(I, can't, wait), (can't, wait, @potus), (wai...  \n",
       "69  [(gotta, love, teachers), (love, teachers, giv...  "
      ]
     },
     "execution_count": 11,
     "metadata": {},
     "output_type": "execute_result"
    }
   ],
   "source": [
    "# Create function to find ngrams in 'comment' column \n",
    "def ngrams(comments, n):\n",
    "    return list(zip(*[comments[i:] for i in range(n)]))\n",
    "\n",
    "# Create dataframe with all bigrams and trigrams\n",
    "df_ngrams = pd.DataFrame()\n",
    "df_ngrams['bigrams'] = reddit[reddit['label']==1]['comment_without_stopwords'].map(lambda x: ngrams(x.split(\" \"), 2))\n",
    "df_ngrams['trigrams'] = reddit[reddit['label']==1]['comment_without_stopwords'].map(lambda x: ngrams(x.split(\" \"), 3))\n",
    "df_ngrams.head()"
   ]
  },
  {
   "cell_type": "code",
   "execution_count": 12,
   "metadata": {},
   "outputs": [],
   "source": [
    "from collections import Counter\n",
    "from itertools import chain"
   ]
  },
  {
   "cell_type": "code",
   "execution_count": 13,
   "metadata": {},
   "outputs": [
    {
     "data": {
      "text/plain": [
       "[((\"i'm\", 'sure'), 5180),\n",
       " (('i', 'think'), 4991),\n",
       " (('i', 'thought'), 2936),\n",
       " (('you', 'forgot'), 2819),\n",
       " (('i', 'know'), 2449),\n",
       " (('i', 'guess'), 2281),\n",
       " (('sounds', 'like'), 1959),\n",
       " (('i', \"can't\"), 1804),\n",
       " (('i', 'see'), 1593),\n",
       " (('good', 'thing'), 1566)]"
      ]
     },
     "execution_count": 13,
     "metadata": {},
     "output_type": "execute_result"
    }
   ],
   "source": [
    "# Generate list of top 10 bigrams in the sarcastic class, and count number of comments that contain each bigram \n",
    "bigrams = df_ngrams['bigrams'].tolist()\n",
    "bigrams = list(chain(*bigrams))\n",
    "bigrams = [(x.lower(), y.lower()) for x,y in bigrams]\n",
    "\n",
    "top10_bigrams = Counter(bigrams).most_common(10)\n",
    "top10_bigrams"
   ]
  },
  {
   "cell_type": "code",
   "execution_count": 14,
   "metadata": {},
   "outputs": [
    {
     "data": {
      "text/plain": [
       "[(('but', 'i', 'thought'), 534),\n",
       " ((\"i'm\", 'pretty', 'sure'), 449),\n",
       " (('i', 'think', 'forgot'), 434),\n",
       " (('i', \"can't\", 'wait'), 423),\n",
       " (('you', 'dropped', 'this:'), 344),\n",
       " (('i', 'think', 'dropped'), 318),\n",
       " (('i', 'guess', 'i'), 317),\n",
       " (('yeah,', \"i'm\", 'sure'), 312),\n",
       " (('i', \"can't\", 'believe'), 310),\n",
       " (('you', 'sound', 'like'), 236)]"
      ]
     },
     "execution_count": 14,
     "metadata": {},
     "output_type": "execute_result"
    }
   ],
   "source": [
    "# Generate list of top 10 trigrams in the sarcastic class, and count number of comments that contain each trigram \n",
    "trigrams = df_ngrams['trigrams'].tolist()\n",
    "trigrams = list(chain(*trigrams))\n",
    "trigrams = [(x.lower(), y.lower(), z.lower()) for x,y,z in trigrams]\n",
    "\n",
    "top10_trigrams = Counter(trigrams).most_common(10)\n",
    "top10_trigrams"
   ]
  },
  {
   "cell_type": "markdown",
   "metadata": {},
   "source": [
    "The most common bigram associated with sarcastic comments is \"i'm sure\" with 5,180 comments containing this bigram. The most common trigram is \"but i thought\" with 534 comments containing this bigram. Other bigrams and trigrams presented above are not uncommon with sarcastic phrases. "
   ]
  },
  {
   "cell_type": "markdown",
   "metadata": {},
   "source": [
    " "
   ]
  },
  {
   "cell_type": "markdown",
   "metadata": {},
   "source": [
    "**Comparing Comment Length in Sarcastic and Non-Sarcastic Comments**\n",
    "\n",
    "Next, the length of each commennt will be analyzed to observe any difference between sarcastic and non-sarcastic comments."
   ]
  },
  {
   "cell_type": "code",
   "execution_count": 15,
   "metadata": {
    "scrolled": false
   },
   "outputs": [],
   "source": [
    "# Create new feature that count the number of words in each comment \n",
    "reddit['comment length'] = reddit['comment'].str.split().str.len()"
   ]
  },
  {
   "cell_type": "code",
   "execution_count": 18,
   "metadata": {
    "scrolled": false
   },
   "outputs": [
    {
     "data": {
      "text/plain": [
       "(0, 100)"
      ]
     },
     "execution_count": 18,
     "metadata": {},
     "output_type": "execute_result"
    },
    {
     "data": {
      "image/png": "[encoded data removed]",
      "text/plain": [
       "<Figure size 906.375x432 with 1 Axes>"
      ]
     },
     "metadata": {
      "needs_background": "light"
     },
     "output_type": "display_data"
    }
   ],
   "source": [
    "# Barplot showing distribution of number of comments at each comment length from 0 to 100 words \n",
    "g = sns.FacetGrid(reddit[reddit['comment length']<100], hue=\"label\", height=6, aspect=2)\n",
    "g = g.map(plt.hist, 'comment length', bins=30, alpha=0.5, ec='white').add_legend()\n",
    "plt.title(\"Length of Comment per Label\")\n",
    "ylabel = plt.ylabel(\"Number of Comments\")\n",
    "xlabel = plt.xlabel(\"Comment Length\")\n",
    "plt.xlim(0,100)"
   ]
  },
  {
   "cell_type": "markdown",
   "metadata": {},
   "source": [
    "The above bar plot present the distribution of the number of comments at each comment length, from 0 to 100 words, for sarcastic to non-sarcastic comments."
   ]
  },
  {
   "cell_type": "markdown",
   "metadata": {},
   "source": [
    "**Comparing the number of Ellipses in Sarcastic vs Non-sarcastic Comments**\n",
    "\n",
    "Sarcasm in text may differentiate from non-sarcastic text in the number and types of punctuations used. First, the number of ellipses (...) in each comment will be calculated. Then the differences between sarcastic and non-sarcastic comments based on these counts will be analyzed for insight. "
   ]
  },
  {
   "cell_type": "code",
   "execution_count": 19,
   "metadata": {},
   "outputs": [],
   "source": [
    "# Create new feature that counts the number of ellipsis in each comment\n",
    "reddit['# of ellipsis'] = reddit['comment'].apply(lambda x : x.count('...'))"
   ]
  },
  {
   "cell_type": "code",
   "execution_count": 21,
   "metadata": {},
   "outputs": [
    {
     "data": {
      "text/html": [
       "<div>\n",
       "<style scoped>\n",
       "    .dataframe tbody tr th:only-of-type {\n",
       "        vertical-align: middle;\n",
       "    }\n",
       "\n",
       "    .dataframe tbody tr th {\n",
       "        vertical-align: top;\n",
       "    }\n",
       "\n",
       "    .dataframe thead th {\n",
       "        text-align: right;\n",
       "    }\n",
       "</style>\n",
       "<table border=\"1\" class=\"dataframe\">\n",
       "  <thead>\n",
       "    <tr style=\"text-align: right;\">\n",
       "      <th></th>\n",
       "      <th># of Sarcastic Comments</th>\n",
       "      <th># of Non-Sarcastic Comments</th>\n",
       "      <th>Proportion of Sarcastic Comment</th>\n",
       "    </tr>\n",
       "    <tr>\n",
       "      <th># of Ellipsis in Comment</th>\n",
       "      <th></th>\n",
       "      <th></th>\n",
       "      <th></th>\n",
       "    </tr>\n",
       "  </thead>\n",
       "  <tbody>\n",
       "    <tr>\n",
       "      <th>1</th>\n",
       "      <td>32150</td>\n",
       "      <td>29951</td>\n",
       "      <td>0.5177</td>\n",
       "    </tr>\n",
       "    <tr>\n",
       "      <th>2</th>\n",
       "      <td>3732</td>\n",
       "      <td>3039</td>\n",
       "      <td>0.5512</td>\n",
       "    </tr>\n",
       "    <tr>\n",
       "      <th>3</th>\n",
       "      <td>648</td>\n",
       "      <td>524</td>\n",
       "      <td>0.5529</td>\n",
       "    </tr>\n",
       "    <tr>\n",
       "      <th>4</th>\n",
       "      <td>175</td>\n",
       "      <td>134</td>\n",
       "      <td>0.5663</td>\n",
       "    </tr>\n",
       "  </tbody>\n",
       "</table>\n",
       "</div>"
      ],
      "text/plain": [
       "                          # of Sarcastic Comments  \\\n",
       "# of Ellipsis in Comment                            \n",
       "1                                           32150   \n",
       "2                                            3732   \n",
       "3                                             648   \n",
       "4                                             175   \n",
       "\n",
       "                          # of Non-Sarcastic Comments  \\\n",
       "# of Ellipsis in Comment                                \n",
       "1                                               29951   \n",
       "2                                                3039   \n",
       "3                                                 524   \n",
       "4                                                 134   \n",
       "\n",
       "                          Proportion of Sarcastic Comment  \n",
       "# of Ellipsis in Comment                                   \n",
       "1                                                  0.5177  \n",
       "2                                                  0.5512  \n",
       "3                                                  0.5529  \n",
       "4                                                  0.5663  "
      ]
     },
     "execution_count": 21,
     "metadata": {},
     "output_type": "execute_result"
    }
   ],
   "source": [
    "# For comments that contain 1-4 ellipsis, count the number of sarcastic vs. non-sarcastic comments\n",
    "num_sarcastic  = []\n",
    "num_nonsarcastic = []\n",
    "for i in range(1,5):\n",
    "    num_sarcastic.append(len(reddit[(reddit['# of ellipsis']==i)&(reddit['label']==1)]))\n",
    "    num_nonsarcastic.append(len(reddit[(reddit['# of ellipsis']==i)&(reddit['label']==0)]))\n",
    "\n",
    "# Create df that contain above info and the proportion of sarcastic to non-sarcastic comments\n",
    "ellipsis_table = pd.DataFrame()\n",
    "ellipsis_table['# of Sarcastic Comments'] = num_sarcastic\n",
    "ellipsis_table['# of Non-Sarcastic Comments'] = num_nonsarcastic\n",
    "ellipsis_table['Proportion of Sarcastic Comment'] = ellipsis_table.iloc[:,0]/(ellipsis_table.iloc[:,0]+ellipsis_table.iloc[:,1])\n",
    "ellipsis_table.index.names = ['# of Ellipsis in Comment']\n",
    "ellipsis_table.index += 1\n",
    "ellipsis_table"
   ]
  },
  {
   "cell_type": "markdown",
   "metadata": {},
   "source": [
    "The above table show that as the number of ellipsis in a comment increases, the porportion of sarcastic to non-sarcastic comments also increase. Below are pie charts illustrating the same point in a visual manner."
   ]
  },
  {
   "cell_type": "code",
   "execution_count": 22,
   "metadata": {},
   "outputs": [
    {
     "data": {
      "image/png": "[encoded data removed]",
      "text/plain": [
       "<Figure size 864x720 with 4 Axes>"
      ]
     },
     "metadata": {},
     "output_type": "display_data"
    }
   ],
   "source": [
    "# Remove last column and transpose above table.\n",
    "ellipsis_pie = ellipsis_table[ellipsis_table.columns[:-1]].transpose()\n",
    "\n",
    "# Plot pie chart for each distribution of comments, from 1 to 4 ellipsis.\n",
    "cols = range(1,5)\n",
    "fig, ax = plt.subplots(2,2, figsize=(12, 10))\n",
    "for i, axis in enumerate(ax.flatten()):    \n",
    "    ellipsis_pie.plot(kind='pie', y=cols[i], legend=False, title='Distribution of Comments with %s Ellipsis' %(cols[i]), ax=axis)"
   ]
  },
  {
   "cell_type": "markdown",
   "metadata": {},
   "source": [
    " "
   ]
  },
  {
   "cell_type": "markdown",
   "metadata": {},
   "source": [
    "**Counting Consecutive Characters**\n",
    "\n",
    "In this section, the number of repeating consecutive characters in a word within a comment will be analyzed for any difference in sarcasm and non-sarcasm. For example, consider the following comment from the dataset:\n",
    "\n",
    "*\"Oooo you're so edgy putting that here.\"*\n",
    "\n",
    "Here, the count of repeating consectutive characters is 4. If a comment contains two words with repeating consecutive characters, only the word with the highest number will be observed. "
   ]
  },
  {
   "cell_type": "code",
   "execution_count": 25,
   "metadata": {},
   "outputs": [],
   "source": [
    "# Define function to count the number of characters that repeat the most. \n",
    "import re\n",
    "\n",
    "def consecutive_repeating_chars(x):\n",
    "    repeating_chars = [match[0] for match in re.findall(r'((\\w)\\2{2,})', x)]\n",
    "    if not repeating_chars:\n",
    "        return 0\n",
    "    else:\n",
    "        repeating_chars = \" \".join(repeating_chars)\n",
    "        max_repeated = max([len(word) for word in repeating_chars.split()])\n",
    "        return(max_repeated)"
   ]
  },
  {
   "cell_type": "code",
   "execution_count": 26,
   "metadata": {
    "scrolled": false
   },
   "outputs": [],
   "source": [
    "# Apply function to comments and create new feature with the counts\n",
    "reddit['num_repeated_chars'] = reddit['comment'].apply(lambda x : consecutive_repeating_chars(x))"
   ]
  },
  {
   "cell_type": "code",
   "execution_count": 27,
   "metadata": {},
   "outputs": [
    {
     "data": {
      "image/png": "[encoded data removed]",
      "text/plain": [
       "<Figure size 576x288 with 2 Axes>"
      ]
     },
     "metadata": {
      "needs_background": "light"
     },
     "output_type": "display_data"
    }
   ],
   "source": [
    "fig, axes = plt.subplots(nrows=1, ncols=2)\n",
    "reddit[reddit['num_repeated_chars']==0]['label'].value_counts().plot(kind='bar', figsize=(8,4), ax=axes[0], title='No Words with Repeating Characters')\n",
    "reddit[reddit['num_repeated_chars']>=1]['label'].value_counts().plot(kind='bar', figsize=(8,4), ax=axes[1], title='Words with Repeating Characters')\n",
    "plt.tight_layout()"
   ]
  },
  {
   "cell_type": "markdown",
   "metadata": {},
   "source": [
    "The left barplot presents the distribution of sarcastic and non-sarcastic comments containing words with no repeating characters, while the plot on the right show the distribution for comments containing at least one word with repeating characters. It can be observed that less than 2% of comments in the dataset contain repeating characters, while the vast majority of comments do not."
   ]
  },
  {
   "cell_type": "code",
   "execution_count": 28,
   "metadata": {},
   "outputs": [
    {
     "data": {
      "text/html": [
       "<div>\n",
       "<style scoped>\n",
       "    .dataframe tbody tr th:only-of-type {\n",
       "        vertical-align: middle;\n",
       "    }\n",
       "\n",
       "    .dataframe tbody tr th {\n",
       "        vertical-align: top;\n",
       "    }\n",
       "\n",
       "    .dataframe thead th {\n",
       "        text-align: right;\n",
       "    }\n",
       "</style>\n",
       "<table border=\"1\" class=\"dataframe\">\n",
       "  <thead>\n",
       "    <tr style=\"text-align: right;\">\n",
       "      <th></th>\n",
       "      <th># of Sarcastic Comments</th>\n",
       "      <th># of Non-Sarcastic Comments</th>\n",
       "      <th>Proportion of Sarcastic Comment</th>\n",
       "    </tr>\n",
       "    <tr>\n",
       "      <th># of repeated characters</th>\n",
       "      <th></th>\n",
       "      <th></th>\n",
       "      <th></th>\n",
       "    </tr>\n",
       "  </thead>\n",
       "  <tbody>\n",
       "    <tr>\n",
       "      <th>3</th>\n",
       "      <td>4407</td>\n",
       "      <td>3406</td>\n",
       "      <td>0.5641</td>\n",
       "    </tr>\n",
       "    <tr>\n",
       "      <th>4</th>\n",
       "      <td>1753</td>\n",
       "      <td>1221</td>\n",
       "      <td>0.5894</td>\n",
       "    </tr>\n",
       "    <tr>\n",
       "      <th>5</th>\n",
       "      <td>982</td>\n",
       "      <td>794</td>\n",
       "      <td>0.5529</td>\n",
       "    </tr>\n",
       "    <tr>\n",
       "      <th>6</th>\n",
       "      <td>558</td>\n",
       "      <td>454</td>\n",
       "      <td>0.5514</td>\n",
       "    </tr>\n",
       "    <tr>\n",
       "      <th>7</th>\n",
       "      <td>323</td>\n",
       "      <td>298</td>\n",
       "      <td>0.5201</td>\n",
       "    </tr>\n",
       "    <tr>\n",
       "      <th>8</th>\n",
       "      <td>198</td>\n",
       "      <td>205</td>\n",
       "      <td>0.4913</td>\n",
       "    </tr>\n",
       "    <tr>\n",
       "      <th>9</th>\n",
       "      <td>133</td>\n",
       "      <td>126</td>\n",
       "      <td>0.5135</td>\n",
       "    </tr>\n",
       "    <tr>\n",
       "      <th>10</th>\n",
       "      <td>85</td>\n",
       "      <td>97</td>\n",
       "      <td>0.4670</td>\n",
       "    </tr>\n",
       "  </tbody>\n",
       "</table>\n",
       "</div>"
      ],
      "text/plain": [
       "                          # of Sarcastic Comments  \\\n",
       "# of repeated characters                            \n",
       "3                                            4407   \n",
       "4                                            1753   \n",
       "5                                             982   \n",
       "6                                             558   \n",
       "7                                             323   \n",
       "8                                             198   \n",
       "9                                             133   \n",
       "10                                             85   \n",
       "\n",
       "                          # of Non-Sarcastic Comments  \\\n",
       "# of repeated characters                                \n",
       "3                                                3406   \n",
       "4                                                1221   \n",
       "5                                                 794   \n",
       "6                                                 454   \n",
       "7                                                 298   \n",
       "8                                                 205   \n",
       "9                                                 126   \n",
       "10                                                 97   \n",
       "\n",
       "                          Proportion of Sarcastic Comment  \n",
       "# of repeated characters                                   \n",
       "3                                                  0.5641  \n",
       "4                                                  0.5894  \n",
       "5                                                  0.5529  \n",
       "6                                                  0.5514  \n",
       "7                                                  0.5201  \n",
       "8                                                  0.4913  \n",
       "9                                                  0.5135  \n",
       "10                                                 0.4670  "
      ]
     },
     "execution_count": 28,
     "metadata": {},
     "output_type": "execute_result"
    }
   ],
   "source": [
    "# For comments that contain 1-4 ellipsis, count the number of sarcastic vs. non-sarcastic comments\n",
    "num_sarcastic  = []\n",
    "num_nonsarcastic = []\n",
    "for i in range (3,11):\n",
    "    num_sarcastic.append(len(reddit[(reddit['num_repeated_chars']==i)&(reddit['label']==1)]))\n",
    "    num_nonsarcastic.append(len(reddit[(reddit['num_repeated_chars']==i)&(reddit['label']==0)]))\n",
    "\n",
    "# Create df that contain above info and the proportion of sarcastic to non-sarcastic comments\n",
    "rep_table = pd.DataFrame()\n",
    "rep_table['# of Sarcastic Comments'] = num_sarcastic\n",
    "rep_table['# of Non-Sarcastic Comments'] = num_nonsarcastic\n",
    "rep_table['Proportion of Sarcastic Comment'] = rep_table.iloc[:,0]/(rep_table.iloc[:,0]+rep_table.iloc[:,1])\n",
    "rep_table.index.names = ['# of repeated characters']\n",
    "rep_table.index += 3\n",
    "rep_table"
   ]
  },
  {
   "cell_type": "markdown",
   "metadata": {},
   "source": [
    "The above table shows the proportion of sarcastic to non-sarcastic comments as the number of repeating characters increase from 1 to 10. Sarcastic comments appear to have the largest proportion of comments at four repeating characters, with 59% of those comments being sarcastic. As the number increases, so does the proportion of sarcastic comments."
   ]
  },
  {
   "cell_type": "markdown",
   "metadata": {},
   "source": [
    " "
   ]
  },
  {
   "cell_type": "markdown",
   "metadata": {},
   "source": [
    "## 2. Classification\n",
    "\n",
    "In this section, classification algorithms will be used to train on the input features to attempt to classify each comment to one of the target classes."
   ]
  },
  {
   "cell_type": "code",
   "execution_count": 29,
   "metadata": {},
   "outputs": [],
   "source": [
    "from sklearn.model_selection import train_test_split\n",
    "from sklearn.feature_extraction.text import TfidfVectorizer\n",
    "from sklearn.naive_bayes import MultinomialNB\n",
    "from sklearn.svm import LinearSVC\n",
    "from sklearn.metrics import confusion_matrix, classification_report"
   ]
  },
  {
   "cell_type": "markdown",
   "metadata": {},
   "source": [
    "Define X and y, and split data into training and testing set"
   ]
  },
  {
   "cell_type": "code",
   "execution_count": 30,
   "metadata": {},
   "outputs": [],
   "source": [
    "y = reddit['label']\n",
    "X = reddit['comment']"
   ]
  },
  {
   "cell_type": "code",
   "execution_count": 31,
   "metadata": {},
   "outputs": [],
   "source": [
    "# Transform comments into feature vector and assign tfidf weights to each feature\n",
    "tfidfvec = TfidfVectorizer()\n",
    "X = tfidfvec.fit_transform(X)"
   ]
  },
  {
   "cell_type": "code",
   "execution_count": 34,
   "metadata": {},
   "outputs": [],
   "source": [
    "# Split the data into train and test sets based on a 70-30 split\n",
    "X_train, X_test, y_train, y_test = train_test_split(X, y, test_size=0.30)"
   ]
  },
  {
   "cell_type": "markdown",
   "metadata": {},
   "source": [
    "**Multinomial Naive Bayes**"
   ]
  },
  {
   "cell_type": "code",
   "execution_count": 35,
   "metadata": {},
   "outputs": [],
   "source": [
    "nb_multi = MultinomialNB()"
   ]
  },
  {
   "cell_type": "code",
   "execution_count": 36,
   "metadata": {},
   "outputs": [
    {
     "data": {
      "text/plain": [
       "MultinomialNB(alpha=1.0, class_prior=None, fit_prior=True)"
      ]
     },
     "execution_count": 36,
     "metadata": {},
     "output_type": "execute_result"
    }
   ],
   "source": [
    "nb_multi.fit(X_train, y_train)"
   ]
  },
  {
   "cell_type": "code",
   "execution_count": 37,
   "metadata": {},
   "outputs": [],
   "source": [
    "predictions_nb_multi = nb_multi.predict(X_test)"
   ]
  },
  {
   "cell_type": "code",
   "execution_count": 38,
   "metadata": {},
   "outputs": [
    {
     "name": "stdout",
     "output_type": "stream",
     "text": [
      "              precision    recall  f1-score   support\n",
      "\n",
      "           0       0.67      0.66      0.67    151844\n",
      "           1       0.67      0.68      0.67    151388\n",
      "\n",
      "    accuracy                           0.67    303232\n",
      "   macro avg       0.67      0.67      0.67    303232\n",
      "weighted avg       0.67      0.67      0.67    303232\n",
      "\n",
      "\n",
      "\n"
     ]
    },
    {
     "data": {
      "image/png": "[encoded data removed]",
      "text/plain": [
       "<Figure size 432x288 with 2 Axes>"
      ]
     },
     "metadata": {
      "needs_background": "light"
     },
     "output_type": "display_data"
    }
   ],
   "source": [
    "print(classification_report(y_test, predictions_nb_multi))\n",
    "print('\\n')\n",
    "sns.heatmap(confusion_matrix(y_test, predictions_nb_multi), annot=True, cmap='Blues', fmt='g');"
   ]
  },
  {
   "cell_type": "markdown",
   "metadata": {},
   "source": [
    "Regarding the class of interest, which is the sarcastic class, the Naive Bayes model was correct in its predictions 67% of the time, and was able to catch 68% of the actual sarcastic comments. \n",
    "\n",
    "To look at actual counts, the confusion matrix indicate that the NB model predicted 102,600 of the 151,388 actual sarcastic comments. It made 153,549 predictions that a comment would be sarcastic and was correct 102,600 times."
   ]
  },
  {
   "cell_type": "markdown",
   "metadata": {},
   "source": [
    " "
   ]
  },
  {
   "cell_type": "markdown",
   "metadata": {},
   "source": [
    "**Linear Support Vector Machines**"
   ]
  },
  {
   "cell_type": "code",
   "execution_count": 86,
   "metadata": {},
   "outputs": [
    {
     "data": {
      "text/plain": [
       "LinearSVC(C=1.0, class_weight=None, dual=True, fit_intercept=True,\n",
       "          intercept_scaling=1, loss='squared_hinge', max_iter=3000,\n",
       "          multi_class='ovr', penalty='l2', random_state=None, tol=0.0001,\n",
       "          verbose=0)"
      ]
     },
     "execution_count": 86,
     "metadata": {},
     "output_type": "execute_result"
    }
   ],
   "source": [
    "from sklearn.svm import LinearSVC\n",
    "svc = LinearSVC(max_iter=3000)\n",
    "svc.fit(X_train, y_train)"
   ]
  },
  {
   "cell_type": "code",
   "execution_count": 87,
   "metadata": {},
   "outputs": [],
   "source": [
    "predictions_svc = svc.predict(X_test)"
   ]
  },
  {
   "cell_type": "code",
   "execution_count": 88,
   "metadata": {},
   "outputs": [
    {
     "name": "stdout",
     "output_type": "stream",
     "text": [
      "              precision    recall  f1-score   support\n",
      "\n",
      "           0       0.67      0.71      0.69    151589\n",
      "           1       0.69      0.65      0.67    151643\n",
      "\n",
      "    accuracy                           0.68    303232\n",
      "   macro avg       0.68      0.68      0.68    303232\n",
      "weighted avg       0.68      0.68      0.68    303232\n",
      "\n",
      "\n",
      "\n"
     ]
    },
    {
     "data": {
      "image/png": "[encoded data removed]",
      "text/plain": [
       "<Figure size 432x288 with 2 Axes>"
      ]
     },
     "metadata": {
      "needs_background": "light"
     },
     "output_type": "display_data"
    }
   ],
   "source": [
    "print(classification_report(y_test, predictions_svc))\n",
    "print('\\n')\n",
    "sns.heatmap(confusion_matrix(y_test, predictions_svc), annot=True, cmap='Blues', fmt='g');"
   ]
  },
  {
   "cell_type": "code",
   "execution_count": null,
   "metadata": {},
   "outputs": [],
   "source": []
  }
 ],
 "metadata": {
  "kernelspec": {
   "display_name": "Python 3",
   "language": "python",
   "name": "python3"
  },
  "language_info": {
   "codemirror_mode": {
    "name": "ipython",
    "version": 3
   },
   "file_extension": ".py",
   "mimetype": "text/x-python",
   "name": "python",
   "nbconvert_exporter": "python",
   "pygments_lexer": "ipython3",
   "version": "3.7.3"
  }
 },
 "nbformat": 4,
 "nbformat_minor": 2
}
