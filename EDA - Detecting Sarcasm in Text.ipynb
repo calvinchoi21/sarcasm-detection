{
 "cells": [
  {
   "cell_type": "markdown",
   "metadata": {},
   "source": [
    "# Detecting Sarcasm in Text\n",
    "### Calvin Choi\n",
    "\n",
    "The purpose of this project to the develop a model that can accurately discern sarcastic comments when provided the raw text. The process includes parsing the text, engineering informative features and applying text preprocessing before using classification algorithms to classify the text.\n",
    "\n",
    "The data used in this study includes a pre-labelled dataset downloaded from Kaggle. As per the author, the dataset contains sarcastic and non-sarcastic comments, labelled as 1 and 0 respectively, that was scraped from Reddit. To accurately identify sarcasm in the comments, the author relied on the Reddit-specific tag /s which users typically utilize to designate sarcasm in their comment. The dataset includes 1,010,774 comments and attributes related to each comment, such as the number of likes, the date it was made, the parent comment, etc. In addition, the original dataset includes a perfect class balance between sarcastic and non-sarcastic comments."
   ]
  },
  {
   "cell_type": "code",
   "execution_count": 1,
   "metadata": {},
   "outputs": [],
   "source": [
    "import numpy as np\n",
    "import pandas as pd\n",
    "pd.set_option('display.float_format', lambda x: '%.4f' % x)\n",
    "import matplotlib.pyplot as plt\n",
    "import seaborn as sns\n",
    "%matplotlib inline"
   ]
  },
  {
   "cell_type": "code",
   "execution_count": 2,
   "metadata": {},
   "outputs": [],
   "source": [
    "reddit = pd.read_csv('train-balanced-sarcasm.csv')"
   ]
  },
  {
   "cell_type": "code",
   "execution_count": 3,
   "metadata": {},
   "outputs": [
    {
     "data": {
      "text/html": [
       "<div>\n",
       "<style scoped>\n",
       "    .dataframe tbody tr th:only-of-type {\n",
       "        vertical-align: middle;\n",
       "    }\n",
       "\n",
       "    .dataframe tbody tr th {\n",
       "        vertical-align: top;\n",
       "    }\n",
       "\n",
       "    .dataframe thead th {\n",
       "        text-align: right;\n",
       "    }\n",
       "</style>\n",
       "<table border=\"1\" class=\"dataframe\">\n",
       "  <thead>\n",
       "    <tr style=\"text-align: right;\">\n",
       "      <th></th>\n",
       "      <th>label</th>\n",
       "      <th>comment</th>\n",
       "      <th>author</th>\n",
       "      <th>subreddit</th>\n",
       "      <th>score</th>\n",
       "      <th>ups</th>\n",
       "      <th>downs</th>\n",
       "      <th>date</th>\n",
       "      <th>created_utc</th>\n",
       "      <th>parent_comment</th>\n",
       "    </tr>\n",
       "  </thead>\n",
       "  <tbody>\n",
       "    <tr>\n",
       "      <th>0</th>\n",
       "      <td>0</td>\n",
       "      <td>NC and NH.</td>\n",
       "      <td>Trumpbart</td>\n",
       "      <td>politics</td>\n",
       "      <td>2</td>\n",
       "      <td>-1</td>\n",
       "      <td>-1</td>\n",
       "      <td>2016-10</td>\n",
       "      <td>2016-10-16 23:55:23</td>\n",
       "      <td>Yeah, I get that argument. At this point, I'd ...</td>\n",
       "    </tr>\n",
       "    <tr>\n",
       "      <th>1</th>\n",
       "      <td>0</td>\n",
       "      <td>You do know west teams play against west teams...</td>\n",
       "      <td>Shbshb906</td>\n",
       "      <td>nba</td>\n",
       "      <td>-4</td>\n",
       "      <td>-1</td>\n",
       "      <td>-1</td>\n",
       "      <td>2016-11</td>\n",
       "      <td>2016-11-01 00:24:10</td>\n",
       "      <td>The blazers and Mavericks (The wests 5 and 6 s...</td>\n",
       "    </tr>\n",
       "    <tr>\n",
       "      <th>2</th>\n",
       "      <td>0</td>\n",
       "      <td>They were underdogs earlier today, but since G...</td>\n",
       "      <td>Creepeth</td>\n",
       "      <td>nfl</td>\n",
       "      <td>3</td>\n",
       "      <td>3</td>\n",
       "      <td>0</td>\n",
       "      <td>2016-09</td>\n",
       "      <td>2016-09-22 21:45:37</td>\n",
       "      <td>They're favored to win.</td>\n",
       "    </tr>\n",
       "    <tr>\n",
       "      <th>3</th>\n",
       "      <td>0</td>\n",
       "      <td>This meme isn't funny none of the \"new york ni...</td>\n",
       "      <td>icebrotha</td>\n",
       "      <td>BlackPeopleTwitter</td>\n",
       "      <td>-8</td>\n",
       "      <td>-1</td>\n",
       "      <td>-1</td>\n",
       "      <td>2016-10</td>\n",
       "      <td>2016-10-18 21:03:47</td>\n",
       "      <td>deadass don't kill my buzz</td>\n",
       "    </tr>\n",
       "    <tr>\n",
       "      <th>4</th>\n",
       "      <td>0</td>\n",
       "      <td>I could use one of those tools.</td>\n",
       "      <td>cush2push</td>\n",
       "      <td>MaddenUltimateTeam</td>\n",
       "      <td>6</td>\n",
       "      <td>-1</td>\n",
       "      <td>-1</td>\n",
       "      <td>2016-12</td>\n",
       "      <td>2016-12-30 17:00:13</td>\n",
       "      <td>Yep can confirm I saw the tool they use for th...</td>\n",
       "    </tr>\n",
       "  </tbody>\n",
       "</table>\n",
       "</div>"
      ],
      "text/plain": [
       "   label                                            comment     author  \\\n",
       "0      0                                         NC and NH.  Trumpbart   \n",
       "1      0  You do know west teams play against west teams...  Shbshb906   \n",
       "2      0  They were underdogs earlier today, but since G...   Creepeth   \n",
       "3      0  This meme isn't funny none of the \"new york ni...  icebrotha   \n",
       "4      0                    I could use one of those tools.  cush2push   \n",
       "\n",
       "            subreddit  score  ups  downs     date          created_utc  \\\n",
       "0            politics      2   -1     -1  2016-10  2016-10-16 23:55:23   \n",
       "1                 nba     -4   -1     -1  2016-11  2016-11-01 00:24:10   \n",
       "2                 nfl      3    3      0  2016-09  2016-09-22 21:45:37   \n",
       "3  BlackPeopleTwitter     -8   -1     -1  2016-10  2016-10-18 21:03:47   \n",
       "4  MaddenUltimateTeam      6   -1     -1  2016-12  2016-12-30 17:00:13   \n",
       "\n",
       "                                      parent_comment  \n",
       "0  Yeah, I get that argument. At this point, I'd ...  \n",
       "1  The blazers and Mavericks (The wests 5 and 6 s...  \n",
       "2                            They're favored to win.  \n",
       "3                         deadass don't kill my buzz  \n",
       "4  Yep can confirm I saw the tool they use for th...  "
      ]
     },
     "execution_count": 3,
     "metadata": {},
     "output_type": "execute_result"
    }
   ],
   "source": [
    "reddit.head()"
   ]
  },
  {
   "cell_type": "markdown",
   "metadata": {},
   "source": [
    "## 1. EDA\n",
    "\n",
    "Exploratory data analysis (EDA) will be conducted on the data to derive insight. The insight gained from this section will be used to drive feature engineering.  "
   ]
  },
  {
   "cell_type": "code",
   "execution_count": 4,
   "metadata": {},
   "outputs": [
    {
     "name": "stdout",
     "output_type": "stream",
     "text": [
      "<class 'pandas.core.frame.DataFrame'>\n",
      "RangeIndex: 1010826 entries, 0 to 1010825\n",
      "Data columns (total 10 columns):\n",
      " #   Column          Non-Null Count    Dtype \n",
      "---  ------          --------------    ----- \n",
      " 0   label           1010826 non-null  int64 \n",
      " 1   comment         1010773 non-null  object\n",
      " 2   author          1010826 non-null  object\n",
      " 3   subreddit       1010826 non-null  object\n",
      " 4   score           1010826 non-null  int64 \n",
      " 5   ups             1010826 non-null  int64 \n",
      " 6   downs           1010826 non-null  int64 \n",
      " 7   date            1010826 non-null  object\n",
      " 8   created_utc     1010826 non-null  object\n",
      " 9   parent_comment  1010826 non-null  object\n",
      "dtypes: int64(4), object(6)\n",
      "memory usage: 77.1+ MB\n"
     ]
    }
   ],
   "source": [
    "reddit.info()"
   ]
  },
  {
   "cell_type": "code",
   "execution_count": 5,
   "metadata": {},
   "outputs": [
    {
     "data": {
      "text/plain": [
       "1    505413\n",
       "0    505413\n",
       "Name: label, dtype: int64"
      ]
     },
     "execution_count": 5,
     "metadata": {},
     "output_type": "execute_result"
    }
   ],
   "source": [
    "reddit['label'].value_counts()"
   ]
  },
  {
   "cell_type": "markdown",
   "metadata": {},
   "source": [
    "The above numbers indicate that there is a perfect ratio of sarcastic to non-sarcastic comments in this dataset. As this is extremely rare in a real-world scenerio, it should be noted that the data presented at this point is simply what the authors of the data had provided."
   ]
  },
  {
   "cell_type": "code",
   "execution_count": 6,
   "metadata": {},
   "outputs": [
    {
     "data": {
      "text/plain": [
       "label              0\n",
       "comment           53\n",
       "author             0\n",
       "subreddit          0\n",
       "score              0\n",
       "ups                0\n",
       "downs              0\n",
       "date               0\n",
       "created_utc        0\n",
       "parent_comment     0\n",
       "dtype: int64"
      ]
     },
     "execution_count": 6,
     "metadata": {},
     "output_type": "execute_result"
    }
   ],
   "source": [
    "reddit.isnull().sum()"
   ]
  },
  {
   "cell_type": "markdown",
   "metadata": {},
   "source": [
    "There are 53 instances with null values under the comment feature, which will be removed from the dataset."
   ]
  },
  {
   "cell_type": "code",
   "execution_count": 4,
   "metadata": {},
   "outputs": [],
   "source": [
    "# Remove all rows is NA \n",
    "reddit = reddit[reddit['comment'].notna()]"
   ]
  },
  {
   "cell_type": "markdown",
   "metadata": {},
   "source": [
    " "
   ]
  },
  {
   "cell_type": "markdown",
   "metadata": {},
   "source": [
    "**Analyzing n-grams of Sarcastic Comments**\n",
    "\n",
    "Here bigrams and trigrams are extracted from the comment feature to gain understanding into what the most common two and three word combinations are with respect to sarcastic comments. This analysis also determines the feasibility of introducing a bag of ngrams as the input for the classification model, rather than a collection of unigrams."
   ]
  },
  {
   "cell_type": "code",
   "execution_count": 5,
   "metadata": {},
   "outputs": [],
   "source": [
    "# First remove stop words in the comments\n",
    "from nltk.corpus import stopwords\n",
    "stop = stopwords.words('english')"
   ]
  },
  {
   "cell_type": "code",
   "execution_count": 6,
   "metadata": {},
   "outputs": [],
   "source": [
    "reddit['comment_without_stopwords'] = reddit['comment'].apply(lambda x: ' '.join([word for word in x.split() if word not in (stop)]))"
   ]
  },
  {
   "cell_type": "code",
   "execution_count": 7,
   "metadata": {},
   "outputs": [
    {
     "data": {
      "text/html": [
       "<div>\n",
       "<style scoped>\n",
       "    .dataframe tbody tr th:only-of-type {\n",
       "        vertical-align: middle;\n",
       "    }\n",
       "\n",
       "    .dataframe tbody tr th {\n",
       "        vertical-align: top;\n",
       "    }\n",
       "\n",
       "    .dataframe thead th {\n",
       "        text-align: right;\n",
       "    }\n",
       "</style>\n",
       "<table border=\"1\" class=\"dataframe\">\n",
       "  <thead>\n",
       "    <tr style=\"text-align: right;\">\n",
       "      <th></th>\n",
       "      <th>bigrams</th>\n",
       "      <th>trigrams</th>\n",
       "    </tr>\n",
       "  </thead>\n",
       "  <tbody>\n",
       "    <tr>\n",
       "      <th>33</th>\n",
       "      <td>[(But, they'll), (they'll, reviews!)]</td>\n",
       "      <td>[(But, they'll, reviews!)]</td>\n",
       "    </tr>\n",
       "    <tr>\n",
       "      <th>44</th>\n",
       "      <td>[(wow, totally), (totally, unreasonable), (unr...</td>\n",
       "      <td>[(wow, totally, unreasonable), (totally, unrea...</td>\n",
       "    </tr>\n",
       "    <tr>\n",
       "      <th>45</th>\n",
       "      <td>[(Ho, ho), (ho, ho...), (ho..., But), (But, Me...</td>\n",
       "      <td>[(Ho, ho, ho...), (ho, ho..., But), (ho..., Bu...</td>\n",
       "    </tr>\n",
       "    <tr>\n",
       "      <th>66</th>\n",
       "      <td>[(I, can't), (can't, wait), (wait, @potus), (@...</td>\n",
       "      <td>[(I, can't, wait), (can't, wait, @potus), (wai...</td>\n",
       "    </tr>\n",
       "    <tr>\n",
       "      <th>69</th>\n",
       "      <td>[(gotta, love), (love, teachers), (teachers, g...</td>\n",
       "      <td>[(gotta, love, teachers), (love, teachers, giv...</td>\n",
       "    </tr>\n",
       "  </tbody>\n",
       "</table>\n",
       "</div>"
      ],
      "text/plain": [
       "                                              bigrams  \\\n",
       "33              [(But, they'll), (they'll, reviews!)]   \n",
       "44  [(wow, totally), (totally, unreasonable), (unr...   \n",
       "45  [(Ho, ho), (ho, ho...), (ho..., But), (But, Me...   \n",
       "66  [(I, can't), (can't, wait), (wait, @potus), (@...   \n",
       "69  [(gotta, love), (love, teachers), (teachers, g...   \n",
       "\n",
       "                                             trigrams  \n",
       "33                         [(But, they'll, reviews!)]  \n",
       "44  [(wow, totally, unreasonable), (totally, unrea...  \n",
       "45  [(Ho, ho, ho...), (ho, ho..., But), (ho..., Bu...  \n",
       "66  [(I, can't, wait), (can't, wait, @potus), (wai...  \n",
       "69  [(gotta, love, teachers), (love, teachers, giv...  "
      ]
     },
     "execution_count": 7,
     "metadata": {},
     "output_type": "execute_result"
    }
   ],
   "source": [
    "# Create function to find ngrams in 'comment' column \n",
    "def ngrams(comments, n):\n",
    "    return list(zip(*[comments[i:] for i in range(n)]))\n",
    "\n",
    "# Create dataframe with all bigrams and trigrams\n",
    "df_ngrams = pd.DataFrame()\n",
    "df_ngrams['bigrams'] = reddit[reddit['label']==1]['comment_without_stopwords'].map(lambda x: ngrams(x.split(\" \"), 2))\n",
    "df_ngrams['trigrams'] = reddit[reddit['label']==1]['comment_without_stopwords'].map(lambda x: ngrams(x.split(\" \"), 3))\n",
    "df_ngrams.head()"
   ]
  },
  {
   "cell_type": "code",
   "execution_count": 8,
   "metadata": {},
   "outputs": [],
   "source": [
    "from collections import Counter\n",
    "from itertools import chain"
   ]
  },
  {
   "cell_type": "code",
   "execution_count": 9,
   "metadata": {},
   "outputs": [
    {
     "data": {
      "text/plain": [
       "[((\"i'm\", 'sure'), 5180),\n",
       " (('i', 'think'), 4991),\n",
       " (('i', 'thought'), 2936),\n",
       " (('you', 'forgot'), 2819),\n",
       " (('i', 'know'), 2449),\n",
       " (('i', 'guess'), 2281),\n",
       " (('sounds', 'like'), 1959),\n",
       " (('i', \"can't\"), 1804),\n",
       " (('i', 'see'), 1593),\n",
       " (('good', 'thing'), 1566)]"
      ]
     },
     "execution_count": 9,
     "metadata": {},
     "output_type": "execute_result"
    }
   ],
   "source": [
    "# Generate list of top 10 bigrams in the sarcastic class, and count number of comments that contain each bigram \n",
    "bigrams = df_ngrams['bigrams'].tolist()\n",
    "bigrams = list(chain(*bigrams))\n",
    "bigrams = [(x.lower(), y.lower()) for x,y in bigrams]\n",
    "\n",
    "top10_bigrams = Counter(bigrams).most_common(10)\n",
    "top10_bigrams"
   ]
  },
  {
   "cell_type": "code",
   "execution_count": 10,
   "metadata": {},
   "outputs": [
    {
     "data": {
      "text/plain": [
       "[(('but', 'i', 'thought'), 534),\n",
       " ((\"i'm\", 'pretty', 'sure'), 449),\n",
       " (('i', 'think', 'forgot'), 434),\n",
       " (('i', \"can't\", 'wait'), 423),\n",
       " (('you', 'dropped', 'this:'), 344),\n",
       " (('i', 'think', 'dropped'), 318),\n",
       " (('i', 'guess', 'i'), 317),\n",
       " (('yeah,', \"i'm\", 'sure'), 312),\n",
       " (('i', \"can't\", 'believe'), 310),\n",
       " (('you', 'sound', 'like'), 236)]"
      ]
     },
     "execution_count": 10,
     "metadata": {},
     "output_type": "execute_result"
    }
   ],
   "source": [
    "# Generate list of top 10 trigrams in the sarcastic class, and count number of comments that contain each trigram \n",
    "trigrams = df_ngrams['trigrams'].tolist()\n",
    "trigrams = list(chain(*trigrams))\n",
    "trigrams = [(x.lower(), y.lower(), z.lower()) for x,y,z in trigrams]\n",
    "\n",
    "top10_trigrams = Counter(trigrams).most_common(10)\n",
    "top10_trigrams"
   ]
  },
  {
   "cell_type": "markdown",
   "metadata": {},
   "source": [
    "The most common bigram associated with sarcastic comments is \"i'm sure\" with 5,180 comments containing this bigram. The most common trigram is \"but i thought\" with 534 comments containing this bigram. Other bigrams and trigrams presented above are not uncommon with sarcastic phrases. "
   ]
  },
  {
   "cell_type": "markdown",
   "metadata": {},
   "source": [
    " "
   ]
  },
  {
   "cell_type": "markdown",
   "metadata": {},
   "source": [
    "**Comparing Comment Length in Sarcastic and Non-Sarcastic Comments**\n",
    "\n",
    "Next, the length of each commennt will be analyzed to observe any difference between sarcastic and non-sarcastic comments."
   ]
  },
  {
   "cell_type": "code",
   "execution_count": 11,
   "metadata": {
    "scrolled": false
   },
   "outputs": [],
   "source": [
    "# Create new feature that count the number of words in each comment \n",
    "reddit['comment length'] = reddit['comment'].str.split().str.len()"
   ]
  },
  {
   "cell_type": "code",
   "execution_count": 18,
   "metadata": {
    "scrolled": false
   },
   "outputs": [
    {
     "data": {
      "text/plain": [
       "(0, 100)"
      ]
     },
     "execution_count": 18,
     "metadata": {},
     "output_type": "execute_result"
    },
    {
     "data": {
      "image/png": "[encoded data removed]",
      "text/plain": [
       "<Figure size 906.375x432 with 1 Axes>"
      ]
     },
     "metadata": {
      "needs_background": "light"
     },
     "output_type": "display_data"
    }
   ],
   "source": [
    "# Barplot showing distribution of number of comments at each comment length from 0 to 100 words \n",
    "g = sns.FacetGrid(reddit[reddit['comment length']<100], hue=\"label\", height=6, aspect=2)\n",
    "g = g.map(plt.hist, 'comment length', bins=30, alpha=0.5, ec='white').add_legend()\n",
    "plt.title(\"Length of Comment per Label\")\n",
    "ylabel = plt.ylabel(\"Number of Comments\")\n",
    "xlabel = plt.xlabel(\"Comment Length\")\n",
    "plt.xlim(0,100)"
   ]
  },
  {
   "cell_type": "markdown",
   "metadata": {},
   "source": [
    "The above bar plot present the distribution of the number of comments at each comment length, from 0 to 100 words, for sarcastic to non-sarcastic comments."
   ]
  },
  {
   "cell_type": "markdown",
   "metadata": {},
   "source": [
    "**Comparing Punctuation Marks in Sarcastic vs Non-sarcastic Comments**"
   ]
  },
  {
   "cell_type": "code",
   "execution_count": 361,
   "metadata": {},
   "outputs": [],
   "source": [
    "# Create new feature that counts the number of ellipsis in each comment\n",
    "reddit['# of ellipsis'] = reddit['comment'].apply(lambda x : x.count('...'))\n",
    "reddit['# of exclamations'] = reddit['comment'].apply(lambda x : x.count('!'))\n",
    "reddit['# of question marks'] = reddit['comment'].apply(lambda x : x.count('?'))\n",
    "reddit['# of quotation marks'] = reddit['comment'].apply(lambda x : x.count('\"'))"
   ]
  },
  {
   "cell_type": "code",
   "execution_count": null,
   "metadata": {},
   "outputs": [],
   "source": [
    "def get_table(x):\n",
    "    num_sarcastic  = []\n",
    "    num_nonsarcastic = []\n",
    "    for i in range(1,5):\n",
    "        num_sarcastic.append(len(reddit[(x==i)&(reddit['label']==1)]))\n",
    "        num_nonsarcastic.append(len(reddit[(x==i)&(reddit['label']==0)]))\n",
    "    \n",
    "    table = pd.DataFrame()\n",
    "    table['# of Sarcastic Comments'] = num_sarcastic\n",
    "    table['# of Non-Sarcastic Comments'] = num_nonsarcastic\n",
    "    table['Proportion of Sarcastic Comment'] = table.iloc[:,0]/(table.iloc[:,0]+table.iloc[:,1])\n",
    "    table.index.names = [x.name+' in comment']\n",
    "    table.index += 1\n",
    "    return(table)"
   ]
  },
  {
   "cell_type": "markdown",
   "metadata": {},
   "source": [
    "**Ellipsis**\n",
    "\n",
    "Sarcasm in text may differentiate from non-sarcastic text in the number and types of punctuations used. First, the number of ellipses (...) in each comment will be calculated. Then the differences between sarcastic and non-sarcastic comments based on these counts will be analyzed for insight. "
   ]
  },
  {
   "cell_type": "code",
   "execution_count": 383,
   "metadata": {},
   "outputs": [
    {
     "data": {
      "text/html": [
       "<div>\n",
       "<style scoped>\n",
       "    .dataframe tbody tr th:only-of-type {\n",
       "        vertical-align: middle;\n",
       "    }\n",
       "\n",
       "    .dataframe tbody tr th {\n",
       "        vertical-align: top;\n",
       "    }\n",
       "\n",
       "    .dataframe thead th {\n",
       "        text-align: right;\n",
       "    }\n",
       "</style>\n",
       "<table border=\"1\" class=\"dataframe\">\n",
       "  <thead>\n",
       "    <tr style=\"text-align: right;\">\n",
       "      <th></th>\n",
       "      <th># of Sarcastic Comments</th>\n",
       "      <th># of Non-Sarcastic Comments</th>\n",
       "      <th>Proportion of Sarcastic Comment</th>\n",
       "    </tr>\n",
       "    <tr>\n",
       "      <th># of ellipsis in comment</th>\n",
       "      <th></th>\n",
       "      <th></th>\n",
       "      <th></th>\n",
       "    </tr>\n",
       "  </thead>\n",
       "  <tbody>\n",
       "    <tr>\n",
       "      <th>1</th>\n",
       "      <td>32150</td>\n",
       "      <td>29951</td>\n",
       "      <td>0.5177</td>\n",
       "    </tr>\n",
       "    <tr>\n",
       "      <th>2</th>\n",
       "      <td>3732</td>\n",
       "      <td>3039</td>\n",
       "      <td>0.5512</td>\n",
       "    </tr>\n",
       "    <tr>\n",
       "      <th>3</th>\n",
       "      <td>648</td>\n",
       "      <td>524</td>\n",
       "      <td>0.5529</td>\n",
       "    </tr>\n",
       "    <tr>\n",
       "      <th>4</th>\n",
       "      <td>175</td>\n",
       "      <td>134</td>\n",
       "      <td>0.5663</td>\n",
       "    </tr>\n",
       "  </tbody>\n",
       "</table>\n",
       "</div>"
      ],
      "text/plain": [
       "                          # of Sarcastic Comments  \\\n",
       "# of ellipsis in comment                            \n",
       "1                                           32150   \n",
       "2                                            3732   \n",
       "3                                             648   \n",
       "4                                             175   \n",
       "\n",
       "                          # of Non-Sarcastic Comments  \\\n",
       "# of ellipsis in comment                                \n",
       "1                                               29951   \n",
       "2                                                3039   \n",
       "3                                                 524   \n",
       "4                                                 134   \n",
       "\n",
       "                          Proportion of Sarcastic Comment  \n",
       "# of ellipsis in comment                                   \n",
       "1                                                  0.5177  \n",
       "2                                                  0.5512  \n",
       "3                                                  0.5529  \n",
       "4                                                  0.5663  "
      ]
     },
     "execution_count": 383,
     "metadata": {},
     "output_type": "execute_result"
    }
   ],
   "source": [
    "ellipsis_table = get_table(reddit['# of ellipsis'])\n",
    "ellipsis_table"
   ]
  },
  {
   "cell_type": "markdown",
   "metadata": {},
   "source": [
    "The above table show that as the number of ellipsis in a comment increases, the porportion of sarcastic to non-sarcastic comments also increase. Below are pie charts illustrating the same point in a visual manner."
   ]
  },
  {
   "cell_type": "code",
   "execution_count": 22,
   "metadata": {},
   "outputs": [
    {
     "data": {
      "image/png": "[encoded data removed]",
      "text/plain": [
       "<Figure size 864x720 with 4 Axes>"
      ]
     },
     "metadata": {},
     "output_type": "display_data"
    }
   ],
   "source": [
    "# Remove last column and transpose above table.\n",
    "ellipsis_pie = ellipsis_table[ellipsis_table.columns[:-1]].transpose()\n",
    "\n",
    "# Plot pie chart for each distribution of comments, from 1 to 4 ellipsis.\n",
    "cols = range(1,5)\n",
    "fig, ax = plt.subplots(2,2, figsize=(12, 10))\n",
    "for i, axis in enumerate(ax.flatten()):    \n",
    "    ellipsis_pie.plot(kind='pie', y=cols[i], legend=False, title='Distribution of Comments with %s Ellipsis' %(cols[i]), ax=axis)"
   ]
  },
  {
   "cell_type": "markdown",
   "metadata": {},
   "source": [
    "**Exclamations**"
   ]
  },
  {
   "cell_type": "code",
   "execution_count": 397,
   "metadata": {},
   "outputs": [
    {
     "data": {
      "text/html": [
       "<div>\n",
       "<style scoped>\n",
       "    .dataframe tbody tr th:only-of-type {\n",
       "        vertical-align: middle;\n",
       "    }\n",
       "\n",
       "    .dataframe tbody tr th {\n",
       "        vertical-align: top;\n",
       "    }\n",
       "\n",
       "    .dataframe thead th {\n",
       "        text-align: right;\n",
       "    }\n",
       "</style>\n",
       "<table border=\"1\" class=\"dataframe\">\n",
       "  <thead>\n",
       "    <tr style=\"text-align: right;\">\n",
       "      <th></th>\n",
       "      <th># of Sarcastic Comments</th>\n",
       "      <th># of Non-Sarcastic Comments</th>\n",
       "      <th>Proportion of Sarcastic Comment</th>\n",
       "    </tr>\n",
       "    <tr>\n",
       "      <th># of exclamations in comment</th>\n",
       "      <th></th>\n",
       "      <th></th>\n",
       "      <th></th>\n",
       "    </tr>\n",
       "  </thead>\n",
       "  <tbody>\n",
       "    <tr>\n",
       "      <th>1</th>\n",
       "      <td>68788</td>\n",
       "      <td>27658</td>\n",
       "      <td>0.7132</td>\n",
       "    </tr>\n",
       "    <tr>\n",
       "      <th>2</th>\n",
       "      <td>128</td>\n",
       "      <td>72</td>\n",
       "      <td>0.6400</td>\n",
       "    </tr>\n",
       "    <tr>\n",
       "      <th>3</th>\n",
       "      <td>73</td>\n",
       "      <td>51</td>\n",
       "      <td>0.5887</td>\n",
       "    </tr>\n",
       "    <tr>\n",
       "      <th>4</th>\n",
       "      <td>27</td>\n",
       "      <td>19</td>\n",
       "      <td>0.5870</td>\n",
       "    </tr>\n",
       "  </tbody>\n",
       "</table>\n",
       "</div>"
      ],
      "text/plain": [
       "                              # of Sarcastic Comments  \\\n",
       "# of exclamations in comment                            \n",
       "1                                               68788   \n",
       "2                                                 128   \n",
       "3                                                  73   \n",
       "4                                                  27   \n",
       "\n",
       "                              # of Non-Sarcastic Comments  \\\n",
       "# of exclamations in comment                                \n",
       "1                                                   27658   \n",
       "2                                                      72   \n",
       "3                                                      51   \n",
       "4                                                      19   \n",
       "\n",
       "                              Proportion of Sarcastic Comment  \n",
       "# of exclamations in comment                                   \n",
       "1                                                      0.7132  \n",
       "2                                                      0.6400  \n",
       "3                                                      0.5887  \n",
       "4                                                      0.5870  "
      ]
     },
     "execution_count": 397,
     "metadata": {},
     "output_type": "execute_result"
    }
   ],
   "source": [
    "excalmation_table = get_table(reddit['# of exclamations'])\n",
    "excalmation_table"
   ]
  },
  {
   "cell_type": "code",
   "execution_count": 400,
   "metadata": {},
   "outputs": [
    {
     "data": {
      "image/png": "[encoded data removed]",
      "text/plain": [
       "<Figure size 864x720 with 4 Axes>"
      ]
     },
     "metadata": {},
     "output_type": "display_data"
    }
   ],
   "source": [
    "# Remove last column and transpose above table.\n",
    "excalmation_pie = excalmation_table[excalmation_table.columns[:-1]].transpose()\n",
    "\n",
    "# Plot pie chart for each distribution of comments, from 1 to 4 exclamation marks.\n",
    "cols = range(1,5)\n",
    "fig, ax = plt.subplots(2,2, figsize=(12, 10))\n",
    "for i, axis in enumerate(ax.flatten()):    \n",
    "    excalmation_pie.plot(kind='pie', y=cols[i], legend=False, title='Distribution of Comments with %s Exclamation Marks' %(cols[i]), ax=axis)"
   ]
  },
  {
   "cell_type": "code",
   "execution_count": 401,
   "metadata": {},
   "outputs": [
    {
     "data": {
      "text/html": [
       "<div>\n",
       "<style scoped>\n",
       "    .dataframe tbody tr th:only-of-type {\n",
       "        vertical-align: middle;\n",
       "    }\n",
       "\n",
       "    .dataframe tbody tr th {\n",
       "        vertical-align: top;\n",
       "    }\n",
       "\n",
       "    .dataframe thead th {\n",
       "        text-align: right;\n",
       "    }\n",
       "</style>\n",
       "<table border=\"1\" class=\"dataframe\">\n",
       "  <thead>\n",
       "    <tr style=\"text-align: right;\">\n",
       "      <th></th>\n",
       "      <th># of Sarcastic Comments</th>\n",
       "      <th># of Non-Sarcastic Comments</th>\n",
       "      <th>Proportion of Sarcastic Comment</th>\n",
       "    </tr>\n",
       "    <tr>\n",
       "      <th># of question marks in comment</th>\n",
       "      <th></th>\n",
       "      <th></th>\n",
       "      <th></th>\n",
       "    </tr>\n",
       "  </thead>\n",
       "  <tbody>\n",
       "    <tr>\n",
       "      <th>1</th>\n",
       "      <td>54955</td>\n",
       "      <td>62766</td>\n",
       "      <td>0.4668</td>\n",
       "    </tr>\n",
       "    <tr>\n",
       "      <th>2</th>\n",
       "      <td>37</td>\n",
       "      <td>48</td>\n",
       "      <td>0.4353</td>\n",
       "    </tr>\n",
       "    <tr>\n",
       "      <th>3</th>\n",
       "      <td>16</td>\n",
       "      <td>21</td>\n",
       "      <td>0.4324</td>\n",
       "    </tr>\n",
       "    <tr>\n",
       "      <th>4</th>\n",
       "      <td>7</td>\n",
       "      <td>4</td>\n",
       "      <td>0.6364</td>\n",
       "    </tr>\n",
       "  </tbody>\n",
       "</table>\n",
       "</div>"
      ],
      "text/plain": [
       "                                # of Sarcastic Comments  \\\n",
       "# of question marks in comment                            \n",
       "1                                                 54955   \n",
       "2                                                    37   \n",
       "3                                                    16   \n",
       "4                                                     7   \n",
       "\n",
       "                                # of Non-Sarcastic Comments  \\\n",
       "# of question marks in comment                                \n",
       "1                                                     62766   \n",
       "2                                                        48   \n",
       "3                                                        21   \n",
       "4                                                         4   \n",
       "\n",
       "                                Proportion of Sarcastic Comment  \n",
       "# of question marks in comment                                   \n",
       "1                                                        0.4668  \n",
       "2                                                        0.4353  \n",
       "3                                                        0.4324  \n",
       "4                                                        0.6364  "
      ]
     },
     "execution_count": 401,
     "metadata": {},
     "output_type": "execute_result"
    }
   ],
   "source": [
    "question_table = get_table(reddit['# of question marks'])\n",
    "question_table"
   ]
  },
  {
   "cell_type": "code",
   "execution_count": 399,
   "metadata": {},
   "outputs": [
    {
     "data": {
      "text/html": [
       "<div>\n",
       "<style scoped>\n",
       "    .dataframe tbody tr th:only-of-type {\n",
       "        vertical-align: middle;\n",
       "    }\n",
       "\n",
       "    .dataframe tbody tr th {\n",
       "        vertical-align: top;\n",
       "    }\n",
       "\n",
       "    .dataframe thead th {\n",
       "        text-align: right;\n",
       "    }\n",
       "</style>\n",
       "<table border=\"1\" class=\"dataframe\">\n",
       "  <thead>\n",
       "    <tr style=\"text-align: right;\">\n",
       "      <th></th>\n",
       "      <th># of Sarcastic Comments</th>\n",
       "      <th># of Non-Sarcastic Comments</th>\n",
       "      <th>Proportion of Sarcastic Comment</th>\n",
       "    </tr>\n",
       "    <tr>\n",
       "      <th># of quotation marks in comment</th>\n",
       "      <th></th>\n",
       "      <th></th>\n",
       "      <th></th>\n",
       "    </tr>\n",
       "  </thead>\n",
       "  <tbody>\n",
       "    <tr>\n",
       "      <th>1</th>\n",
       "      <td>215</td>\n",
       "      <td>320</td>\n",
       "      <td>0.4019</td>\n",
       "    </tr>\n",
       "    <tr>\n",
       "      <th>2</th>\n",
       "      <td>14418</td>\n",
       "      <td>20522</td>\n",
       "      <td>0.4127</td>\n",
       "    </tr>\n",
       "    <tr>\n",
       "      <th>3</th>\n",
       "      <td>24</td>\n",
       "      <td>33</td>\n",
       "      <td>0.4211</td>\n",
       "    </tr>\n",
       "    <tr>\n",
       "      <th>4</th>\n",
       "      <td>924</td>\n",
       "      <td>1633</td>\n",
       "      <td>0.3614</td>\n",
       "    </tr>\n",
       "  </tbody>\n",
       "</table>\n",
       "</div>"
      ],
      "text/plain": [
       "                                 # of Sarcastic Comments  \\\n",
       "# of quotation marks in comment                            \n",
       "1                                                    215   \n",
       "2                                                  14418   \n",
       "3                                                     24   \n",
       "4                                                    924   \n",
       "\n",
       "                                 # of Non-Sarcastic Comments  \\\n",
       "# of quotation marks in comment                                \n",
       "1                                                        320   \n",
       "2                                                      20522   \n",
       "3                                                         33   \n",
       "4                                                       1633   \n",
       "\n",
       "                                 Proportion of Sarcastic Comment  \n",
       "# of quotation marks in comment                                   \n",
       "1                                                         0.4019  \n",
       "2                                                         0.4127  \n",
       "3                                                         0.4211  \n",
       "4                                                         0.3614  "
      ]
     },
     "execution_count": 399,
     "metadata": {},
     "output_type": "execute_result"
    }
   ],
   "source": [
    "quotation_table = get_table(reddit['# of quotation marks'])\n",
    "quotation_table"
   ]
  },
  {
   "cell_type": "markdown",
   "metadata": {},
   "source": [
    "**Laughing and Smiley Face**"
   ]
  },
  {
   "cell_type": "code",
   "execution_count": 405,
   "metadata": {},
   "outputs": [],
   "source": [
    "# Count the number of (case insensitive) \"haha\", \"lol\", and smiley face emoticons in each comment\n",
    "reddit['haha_count'] = reddit['comment'].apply(lambda x : x.upper().count('haha'.upper()))\n",
    "reddit['lol_count'] = reddit['comment'].apply(lambda x : x.upper().count('lol'.upper()))\n",
    "reddit['smiley_face_count'] = reddit['comment'].apply(lambda x : x.count(':)'))"
   ]
  },
  {
   "cell_type": "code",
   "execution_count": 430,
   "metadata": {},
   "outputs": [
    {
     "data": {
      "text/html": [
       "<div>\n",
       "<style scoped>\n",
       "    .dataframe tbody tr th:only-of-type {\n",
       "        vertical-align: middle;\n",
       "    }\n",
       "\n",
       "    .dataframe tbody tr th {\n",
       "        vertical-align: top;\n",
       "    }\n",
       "\n",
       "    .dataframe thead th {\n",
       "        text-align: right;\n",
       "    }\n",
       "</style>\n",
       "<table border=\"1\" class=\"dataframe\">\n",
       "  <thead>\n",
       "    <tr style=\"text-align: right;\">\n",
       "      <th></th>\n",
       "      <th>non_sarcastic</th>\n",
       "      <th>sarcastic</th>\n",
       "    </tr>\n",
       "  </thead>\n",
       "  <tbody>\n",
       "    <tr>\n",
       "      <th>haha_count</th>\n",
       "      <td>2475</td>\n",
       "      <td>1735</td>\n",
       "    </tr>\n",
       "    <tr>\n",
       "      <th>lol_count</th>\n",
       "      <td>5824</td>\n",
       "      <td>3138</td>\n",
       "    </tr>\n",
       "    <tr>\n",
       "      <th>smiley_face_count</th>\n",
       "      <td>3232</td>\n",
       "      <td>509</td>\n",
       "    </tr>\n",
       "  </tbody>\n",
       "</table>\n",
       "</div>"
      ],
      "text/plain": [
       "                   non_sarcastic  sarcastic\n",
       "haha_count                  2475       1735\n",
       "lol_count                   5824       3138\n",
       "smiley_face_count           3232        509"
      ]
     },
     "execution_count": 430,
     "metadata": {},
     "output_type": "execute_result"
    }
   ],
   "source": [
    "df_laughing = pd.DataFrame()\n",
    "\n",
    "for each in reddit.columns[-3:]:\n",
    "    df_laughing[each] = reddit[reddit[each]>0].groupby(pos_df['label'])['comment'].count()\n",
    "\n",
    "df_laughing = df_laughing.transpose()\n",
    "df_laughing.columns = ['non_sarcastic', 'sarcastic']\n",
    "df_laughing"
   ]
  },
  {
   "cell_type": "markdown",
   "metadata": {},
   "source": [
    "**Counting Consecutive Characters**\n",
    "\n",
    "In this section, the number of repeating consecutive characters in a word within a comment will be analyzed for any difference in sarcasm and non-sarcasm. For example, consider the following comment from the dataset:\n",
    "\n",
    "*\"Oooo you're so edgy putting that here.\"*\n",
    "\n",
    "Here, the count of repeating consectutive characters is 4. If a comment contains two words with repeating consecutive characters, only the word with the highest number will be observed. "
   ]
  },
  {
   "cell_type": "code",
   "execution_count": 13,
   "metadata": {},
   "outputs": [],
   "source": [
    "# Define function to count the number of characters that repeat the most. \n",
    "import re\n",
    "\n",
    "def consecutive_repeating_chars(x):\n",
    "    repeating_chars = [match[0] for match in re.findall(r'((\\w)\\2{2,})', x)]\n",
    "    if not repeating_chars:\n",
    "        return 0\n",
    "    else:\n",
    "        repeating_chars = \" \".join(repeating_chars)\n",
    "        max_repeated = max([len(word) for word in repeating_chars.split()])\n",
    "        return(max_repeated)"
   ]
  },
  {
   "cell_type": "code",
   "execution_count": 14,
   "metadata": {
    "scrolled": false
   },
   "outputs": [],
   "source": [
    "# Apply function to comments and create new feature with the counts\n",
    "reddit['num_repeated_chars'] = reddit['comment'].apply(lambda x : consecutive_repeating_chars(x))"
   ]
  },
  {
   "cell_type": "code",
   "execution_count": 27,
   "metadata": {},
   "outputs": [
    {
     "data": {
      "image/png": "[encoded data removed]",
      "text/plain": [
       "<Figure size 576x288 with 2 Axes>"
      ]
     },
     "metadata": {
      "needs_background": "light"
     },
     "output_type": "display_data"
    }
   ],
   "source": [
    "fig, axes = plt.subplots(nrows=1, ncols=2)\n",
    "reddit[reddit['num_repeated_chars']==0]['label'].value_counts().plot(kind='bar', figsize=(8,4), ax=axes[0], title='No Words with Repeating Characters')\n",
    "reddit[reddit['num_repeated_chars']>=1]['label'].value_counts().plot(kind='bar', figsize=(8,4), ax=axes[1], title='Words with Repeating Characters')\n",
    "plt.tight_layout()"
   ]
  },
  {
   "cell_type": "markdown",
   "metadata": {},
   "source": [
    "The left barplot presents the distribution of sarcastic and non-sarcastic comments containing words with no repeating characters, while the plot on the right show the distribution for comments containing at least one word with repeating characters. It can be observed that less than 2% of comments in the dataset contain repeating characters, while the vast majority of comments do not."
   ]
  },
  {
   "cell_type": "code",
   "execution_count": 28,
   "metadata": {},
   "outputs": [
    {
     "data": {
      "text/html": [
       "<div>\n",
       "<style scoped>\n",
       "    .dataframe tbody tr th:only-of-type {\n",
       "        vertical-align: middle;\n",
       "    }\n",
       "\n",
       "    .dataframe tbody tr th {\n",
       "        vertical-align: top;\n",
       "    }\n",
       "\n",
       "    .dataframe thead th {\n",
       "        text-align: right;\n",
       "    }\n",
       "</style>\n",
       "<table border=\"1\" class=\"dataframe\">\n",
       "  <thead>\n",
       "    <tr style=\"text-align: right;\">\n",
       "      <th></th>\n",
       "      <th># of Sarcastic Comments</th>\n",
       "      <th># of Non-Sarcastic Comments</th>\n",
       "      <th>Proportion of Sarcastic Comment</th>\n",
       "    </tr>\n",
       "    <tr>\n",
       "      <th># of repeated characters</th>\n",
       "      <th></th>\n",
       "      <th></th>\n",
       "      <th></th>\n",
       "    </tr>\n",
       "  </thead>\n",
       "  <tbody>\n",
       "    <tr>\n",
       "      <th>3</th>\n",
       "      <td>4407</td>\n",
       "      <td>3406</td>\n",
       "      <td>0.5641</td>\n",
       "    </tr>\n",
       "    <tr>\n",
       "      <th>4</th>\n",
       "      <td>1753</td>\n",
       "      <td>1221</td>\n",
       "      <td>0.5894</td>\n",
       "    </tr>\n",
       "    <tr>\n",
       "      <th>5</th>\n",
       "      <td>982</td>\n",
       "      <td>794</td>\n",
       "      <td>0.5529</td>\n",
       "    </tr>\n",
       "    <tr>\n",
       "      <th>6</th>\n",
       "      <td>558</td>\n",
       "      <td>454</td>\n",
       "      <td>0.5514</td>\n",
       "    </tr>\n",
       "    <tr>\n",
       "      <th>7</th>\n",
       "      <td>323</td>\n",
       "      <td>298</td>\n",
       "      <td>0.5201</td>\n",
       "    </tr>\n",
       "    <tr>\n",
       "      <th>8</th>\n",
       "      <td>198</td>\n",
       "      <td>205</td>\n",
       "      <td>0.4913</td>\n",
       "    </tr>\n",
       "    <tr>\n",
       "      <th>9</th>\n",
       "      <td>133</td>\n",
       "      <td>126</td>\n",
       "      <td>0.5135</td>\n",
       "    </tr>\n",
       "    <tr>\n",
       "      <th>10</th>\n",
       "      <td>85</td>\n",
       "      <td>97</td>\n",
       "      <td>0.4670</td>\n",
       "    </tr>\n",
       "  </tbody>\n",
       "</table>\n",
       "</div>"
      ],
      "text/plain": [
       "                          # of Sarcastic Comments  \\\n",
       "# of repeated characters                            \n",
       "3                                            4407   \n",
       "4                                            1753   \n",
       "5                                             982   \n",
       "6                                             558   \n",
       "7                                             323   \n",
       "8                                             198   \n",
       "9                                             133   \n",
       "10                                             85   \n",
       "\n",
       "                          # of Non-Sarcastic Comments  \\\n",
       "# of repeated characters                                \n",
       "3                                                3406   \n",
       "4                                                1221   \n",
       "5                                                 794   \n",
       "6                                                 454   \n",
       "7                                                 298   \n",
       "8                                                 205   \n",
       "9                                                 126   \n",
       "10                                                 97   \n",
       "\n",
       "                          Proportion of Sarcastic Comment  \n",
       "# of repeated characters                                   \n",
       "3                                                  0.5641  \n",
       "4                                                  0.5894  \n",
       "5                                                  0.5529  \n",
       "6                                                  0.5514  \n",
       "7                                                  0.5201  \n",
       "8                                                  0.4913  \n",
       "9                                                  0.5135  \n",
       "10                                                 0.4670  "
      ]
     },
     "execution_count": 28,
     "metadata": {},
     "output_type": "execute_result"
    }
   ],
   "source": [
    "# For comments that contain 1-4 ellipsis, count the number of sarcastic vs. non-sarcastic comments\n",
    "num_sarcastic  = []\n",
    "num_nonsarcastic = []\n",
    "for i in range (3,11):\n",
    "    num_sarcastic.append(len(reddit[(reddit['num_repeated_chars']==i)&(reddit['label']==1)]))\n",
    "    num_nonsarcastic.append(len(reddit[(reddit['num_repeated_chars']==i)&(reddit['label']==0)]))\n",
    "\n",
    "# Create df that contain above info and the proportion of sarcastic to non-sarcastic comments\n",
    "rep_table = pd.DataFrame()\n",
    "rep_table['# of Sarcastic Comments'] = num_sarcastic\n",
    "rep_table['# of Non-Sarcastic Comments'] = num_nonsarcastic\n",
    "rep_table['Proportion of Sarcastic Comment'] = rep_table.iloc[:,0]/(rep_table.iloc[:,0]+rep_table.iloc[:,1])\n",
    "rep_table.index.names = ['# of repeated characters']\n",
    "rep_table.index += 3\n",
    "rep_table"
   ]
  },
  {
   "cell_type": "markdown",
   "metadata": {},
   "source": [
    "The above table shows the proportion of sarcastic to non-sarcastic comments as the number of repeating characters increase from 1 to 10. Sarcastic comments appear to have the largest proportion of comments at four repeating characters, with 59% of those comments being sarcastic. As the number increases, so does the proportion of sarcastic comments."
   ]
  },
  {
   "cell_type": "markdown",
   "metadata": {},
   "source": [
    " "
   ]
  },
  {
   "cell_type": "markdown",
   "metadata": {},
   "source": [
    " "
   ]
  },
  {
   "cell_type": "markdown",
   "metadata": {},
   "source": [
    "**Parts of Speech Tagging (POS) and Named Entity Recognition (NER)**"
   ]
  },
  {
   "cell_type": "code",
   "execution_count": 16,
   "metadata": {},
   "outputs": [],
   "source": [
    "# Load spacy and English dictionary\n",
    "import spacy\n",
    "nlp = spacy.load('en_core_web_sm')"
   ]
  },
  {
   "cell_type": "code",
   "execution_count": 17,
   "metadata": {},
   "outputs": [],
   "source": [
    "# Create spacy DOC object\n",
    "df = pd.DataFrame()\n",
    "reddit['nlp'] = [doc for doc in nlp.pipe(reddit['comment'].tolist())]"
   ]
  },
  {
   "cell_type": "code",
   "execution_count": 43,
   "metadata": {},
   "outputs": [],
   "source": [
    "# Create columns containing POS and NER tags for each comment\n",
    "pos = []\n",
    "ner = []\n",
    "\n",
    "for doc in reddit['nlp']:  \n",
    "    if doc.is_parsed:\n",
    "        pos.append([n.pos_ for n in doc])\n",
    "        ner.append([n.label_ for n in doc.ents])\n",
    "    else:\n",
    "        pos.append(None)\n",
    "        ner.append(None)\n",
    "\n",
    "reddit['pos_tags'] = pos\n",
    "reddit['ner_tags'] = ner"
   ]
  },
  {
   "cell_type": "code",
   "execution_count": 113,
   "metadata": {},
   "outputs": [
    {
     "data": {
      "text/html": [
       "<div>\n",
       "<style scoped>\n",
       "    .dataframe tbody tr th:only-of-type {\n",
       "        vertical-align: middle;\n",
       "    }\n",
       "\n",
       "    .dataframe tbody tr th {\n",
       "        vertical-align: top;\n",
       "    }\n",
       "\n",
       "    .dataframe thead th {\n",
       "        text-align: right;\n",
       "    }\n",
       "</style>\n",
       "<table border=\"1\" class=\"dataframe\">\n",
       "  <thead>\n",
       "    <tr style=\"text-align: right;\">\n",
       "      <th></th>\n",
       "      <th>label</th>\n",
       "      <th>comment</th>\n",
       "      <th>author</th>\n",
       "      <th>subreddit</th>\n",
       "      <th>score</th>\n",
       "      <th>ups</th>\n",
       "      <th>downs</th>\n",
       "      <th>date</th>\n",
       "      <th>created_utc</th>\n",
       "      <th>parent_comment</th>\n",
       "      <th>comment_without_stopwords</th>\n",
       "      <th>comment length</th>\n",
       "      <th># of ellipsis</th>\n",
       "      <th>num_repeated_chars</th>\n",
       "      <th>nlp</th>\n",
       "      <th>pos_tags</th>\n",
       "      <th>ner_tags</th>\n",
       "    </tr>\n",
       "  </thead>\n",
       "  <tbody>\n",
       "    <tr>\n",
       "      <th>0</th>\n",
       "      <td>0</td>\n",
       "      <td>NC and NH.</td>\n",
       "      <td>Trumpbart</td>\n",
       "      <td>politics</td>\n",
       "      <td>2</td>\n",
       "      <td>-1</td>\n",
       "      <td>-1</td>\n",
       "      <td>2016-10</td>\n",
       "      <td>2016-10-16 23:55:23</td>\n",
       "      <td>Yeah, I get that argument. At this point, I'd ...</td>\n",
       "      <td>NC NH.</td>\n",
       "      <td>3</td>\n",
       "      <td>0</td>\n",
       "      <td>0</td>\n",
       "      <td>(NC, and, NH, .)</td>\n",
       "      <td>[PROPN, CCONJ, PROPN, PUNCT]</td>\n",
       "      <td>[GPE, GPE]</td>\n",
       "    </tr>\n",
       "  </tbody>\n",
       "</table>\n",
       "</div>"
      ],
      "text/plain": [
       "   label     comment     author subreddit  score  ups  downs     date  \\\n",
       "0      0  NC and NH.  Trumpbart  politics      2   -1     -1  2016-10   \n",
       "\n",
       "           created_utc                                     parent_comment  \\\n",
       "0  2016-10-16 23:55:23  Yeah, I get that argument. At this point, I'd ...   \n",
       "\n",
       "  comment_without_stopwords  comment length  # of ellipsis  \\\n",
       "0                    NC NH.               3              0   \n",
       "\n",
       "   num_repeated_chars               nlp                      pos_tags  \\\n",
       "0                   0  (NC, and, NH, .)  [PROPN, CCONJ, PROPN, PUNCT]   \n",
       "\n",
       "     ner_tags  \n",
       "0  [GPE, GPE]  "
      ]
     },
     "execution_count": 113,
     "metadata": {},
     "output_type": "execute_result"
    }
   ],
   "source": [
    "reddit.head(1)"
   ]
  },
  {
   "cell_type": "markdown",
   "metadata": {},
   "source": [
    "**Parts of Speech Tagging**"
   ]
  },
  {
   "cell_type": "code",
   "execution_count": 186,
   "metadata": {},
   "outputs": [],
   "source": [
    "import itertools\n",
    "import collections"
   ]
  },
  {
   "cell_type": "code",
   "execution_count": 238,
   "metadata": {},
   "outputs": [
    {
     "name": "stdout",
     "output_type": "stream",
     "text": [
      "['X', 'DET', 'VERB', 'NOUN', 'INTJ', 'ADP', 'AUX', 'PART', 'SPACE', 'CCONJ', 'PRON', 'SCONJ', 'SYM', 'ADJ', 'PROPN', 'ADV', 'PUNCT', 'NUM']\n"
     ]
    }
   ],
   "source": [
    "import itertools\n",
    "pos_list = list(set([*itertools.chain.from_iterable(reddit['pos_tags'])]))\n",
    "pos_list.remove('SPACE')\n",
    "print(pos_list)"
   ]
  },
  {
   "cell_type": "code",
   "execution_count": 188,
   "metadata": {},
   "outputs": [],
   "source": [
    "pos_nonsarcastic = [*itertools.chain.from_iterable(reddit[reddit['label']==1]['pos_tags'])]\n",
    "pos_sarcastic = [*itertools.chain.from_iterable(reddit[reddit['label']==0]['pos_tags'])]\n",
    "\n",
    "pos_nonsarcastic_count = collections.Counter(pos_nonsarcastic)\n",
    "pos_sarcastic_count = collections.Counter(pos_sarcastic)"
   ]
  },
  {
   "cell_type": "code",
   "execution_count": 226,
   "metadata": {},
   "outputs": [
    {
     "data": {
      "text/html": [
       "<div>\n",
       "<style scoped>\n",
       "    .dataframe tbody tr th:only-of-type {\n",
       "        vertical-align: middle;\n",
       "    }\n",
       "\n",
       "    .dataframe tbody tr th {\n",
       "        vertical-align: top;\n",
       "    }\n",
       "\n",
       "    .dataframe thead th {\n",
       "        text-align: right;\n",
       "    }\n",
       "</style>\n",
       "<table border=\"1\" class=\"dataframe\">\n",
       "  <thead>\n",
       "    <tr style=\"text-align: right;\">\n",
       "      <th></th>\n",
       "      <th>non_sarcastic</th>\n",
       "      <th>sarcastic</th>\n",
       "      <th>difference</th>\n",
       "    </tr>\n",
       "  </thead>\n",
       "  <tbody>\n",
       "    <tr>\n",
       "      <th>PUNCT</th>\n",
       "      <td>666819</td>\n",
       "      <td>723463</td>\n",
       "      <td>56644</td>\n",
       "    </tr>\n",
       "    <tr>\n",
       "      <th>INTJ</th>\n",
       "      <td>118585</td>\n",
       "      <td>63024</td>\n",
       "      <td>55561</td>\n",
       "    </tr>\n",
       "    <tr>\n",
       "      <th>ADP</th>\n",
       "      <td>377968</td>\n",
       "      <td>432211</td>\n",
       "      <td>54243</td>\n",
       "    </tr>\n",
       "    <tr>\n",
       "      <th>PROPN</th>\n",
       "      <td>341668</td>\n",
       "      <td>387184</td>\n",
       "      <td>45516</td>\n",
       "    </tr>\n",
       "    <tr>\n",
       "      <th>ADJ</th>\n",
       "      <td>410561</td>\n",
       "      <td>381936</td>\n",
       "      <td>28625</td>\n",
       "    </tr>\n",
       "    <tr>\n",
       "      <th>NOUN</th>\n",
       "      <td>921078</td>\n",
       "      <td>947193</td>\n",
       "      <td>26115</td>\n",
       "    </tr>\n",
       "    <tr>\n",
       "      <th>PRON</th>\n",
       "      <td>525738</td>\n",
       "      <td>551155</td>\n",
       "      <td>25417</td>\n",
       "    </tr>\n",
       "    <tr>\n",
       "      <th>NUM</th>\n",
       "      <td>61503</td>\n",
       "      <td>84055</td>\n",
       "      <td>22552</td>\n",
       "    </tr>\n",
       "    <tr>\n",
       "      <th>DET</th>\n",
       "      <td>593632</td>\n",
       "      <td>609617</td>\n",
       "      <td>15985</td>\n",
       "    </tr>\n",
       "    <tr>\n",
       "      <th>AUX</th>\n",
       "      <td>438014</td>\n",
       "      <td>429179</td>\n",
       "      <td>8835</td>\n",
       "    </tr>\n",
       "    <tr>\n",
       "      <th>ADV</th>\n",
       "      <td>391780</td>\n",
       "      <td>400606</td>\n",
       "      <td>8826</td>\n",
       "    </tr>\n",
       "    <tr>\n",
       "      <th>PART</th>\n",
       "      <td>206848</td>\n",
       "      <td>198100</td>\n",
       "      <td>8748</td>\n",
       "    </tr>\n",
       "    <tr>\n",
       "      <th>SCONJ</th>\n",
       "      <td>146084</td>\n",
       "      <td>140557</td>\n",
       "      <td>5527</td>\n",
       "    </tr>\n",
       "    <tr>\n",
       "      <th>SYM</th>\n",
       "      <td>11725</td>\n",
       "      <td>17227</td>\n",
       "      <td>5502</td>\n",
       "    </tr>\n",
       "    <tr>\n",
       "      <th>CCONJ</th>\n",
       "      <td>149621</td>\n",
       "      <td>153994</td>\n",
       "      <td>4373</td>\n",
       "    </tr>\n",
       "    <tr>\n",
       "      <th>X</th>\n",
       "      <td>3813</td>\n",
       "      <td>6057</td>\n",
       "      <td>2244</td>\n",
       "    </tr>\n",
       "    <tr>\n",
       "      <th>VERB</th>\n",
       "      <td>769779</td>\n",
       "      <td>771892</td>\n",
       "      <td>2113</td>\n",
       "    </tr>\n",
       "    <tr>\n",
       "      <th>SPACE</th>\n",
       "      <td>0</td>\n",
       "      <td>2</td>\n",
       "      <td>2</td>\n",
       "    </tr>\n",
       "  </tbody>\n",
       "</table>\n",
       "</div>"
      ],
      "text/plain": [
       "       non_sarcastic  sarcastic  difference\n",
       "PUNCT         666819     723463       56644\n",
       "INTJ          118585      63024       55561\n",
       "ADP           377968     432211       54243\n",
       "PROPN         341668     387184       45516\n",
       "ADJ           410561     381936       28625\n",
       "NOUN          921078     947193       26115\n",
       "PRON          525738     551155       25417\n",
       "NUM            61503      84055       22552\n",
       "DET           593632     609617       15985\n",
       "AUX           438014     429179        8835\n",
       "ADV           391780     400606        8826\n",
       "PART          206848     198100        8748\n",
       "SCONJ         146084     140557        5527\n",
       "SYM            11725      17227        5502\n",
       "CCONJ         149621     153994        4373\n",
       "X               3813       6057        2244\n",
       "VERB          769779     771892        2113\n",
       "SPACE              0          2           2"
      ]
     },
     "execution_count": 226,
     "metadata": {},
     "output_type": "execute_result"
    }
   ],
   "source": [
    "df_nonsarcastic = pd.DataFrame.from_dict(pos_nonsarcastic_count, orient='index')\n",
    "\n",
    "df_sarcastic = pd.DataFrame.from_dict(pos_sarcastic_count, orient='index')\n",
    "\n",
    "pos_count_df = pd.concat([df_nonsarcastic, df_sarcastic], axis=1).fillna(0)\n",
    "pos_count_df.columns = ['non_sarcastic', 'sarcastic']\n",
    "pos_count_df.iloc[:,0] = pos_count_df.iloc[:,0].astype('Int64')\n",
    "pos_count_df['difference'] = (pos_count_df['non_sarcastic'] - pos_count_df['sarcastic']).abs()\n",
    "pos_count_df.sort_values(by=['difference'], ascending=False)"
   ]
  },
  {
   "cell_type": "code",
   "execution_count": 292,
   "metadata": {},
   "outputs": [],
   "source": [
    "pos_df = reddit[['label', 'pos_tags']].copy()\n",
    "\n",
    "for each in pos_list:\n",
    "    pos_df[each+' Ratio'] = pos_df['pos_tags'].apply(lambda x: (x.count(each)/len(x)))"
   ]
  },
  {
   "cell_type": "code",
   "execution_count": 293,
   "metadata": {},
   "outputs": [
    {
     "data": {
      "text/html": [
       "<div>\n",
       "<style scoped>\n",
       "    .dataframe tbody tr th:only-of-type {\n",
       "        vertical-align: middle;\n",
       "    }\n",
       "\n",
       "    .dataframe tbody tr th {\n",
       "        vertical-align: top;\n",
       "    }\n",
       "\n",
       "    .dataframe thead th {\n",
       "        text-align: right;\n",
       "    }\n",
       "</style>\n",
       "<table border=\"1\" class=\"dataframe\">\n",
       "  <thead>\n",
       "    <tr style=\"text-align: right;\">\n",
       "      <th></th>\n",
       "      <th>label</th>\n",
       "      <th>pos_tags</th>\n",
       "      <th>X Ratio</th>\n",
       "      <th>DET Ratio</th>\n",
       "      <th>VERB Ratio</th>\n",
       "      <th>NOUN Ratio</th>\n",
       "      <th>INTJ Ratio</th>\n",
       "      <th>ADP Ratio</th>\n",
       "      <th>AUX Ratio</th>\n",
       "      <th>PART Ratio</th>\n",
       "      <th>SPACE Ratio</th>\n",
       "      <th>CCONJ Ratio</th>\n",
       "      <th>PRON Ratio</th>\n",
       "      <th>SCONJ Ratio</th>\n",
       "      <th>SYM Ratio</th>\n",
       "      <th>ADJ Ratio</th>\n",
       "      <th>PROPN Ratio</th>\n",
       "      <th>ADV Ratio</th>\n",
       "      <th>PUNCT Ratio</th>\n",
       "      <th>NUM Ratio</th>\n",
       "    </tr>\n",
       "  </thead>\n",
       "  <tbody>\n",
       "    <tr>\n",
       "      <th>1</th>\n",
       "      <td>0</td>\n",
       "      <td>[PRON, AUX, VERB, NOUN, NOUN, VERB, ADP, PROPN...</td>\n",
       "      <td>0.0000</td>\n",
       "      <td>0.0000</td>\n",
       "      <td>0.1333</td>\n",
       "      <td>0.2667</td>\n",
       "      <td>0.0000</td>\n",
       "      <td>0.0667</td>\n",
       "      <td>0.0667</td>\n",
       "      <td>0.0000</td>\n",
       "      <td>0.0000</td>\n",
       "      <td>0.0000</td>\n",
       "      <td>0.0667</td>\n",
       "      <td>0.0667</td>\n",
       "      <td>0.0000</td>\n",
       "      <td>0.1333</td>\n",
       "      <td>0.0667</td>\n",
       "      <td>0.0667</td>\n",
       "      <td>0.0667</td>\n",
       "      <td>0.0000</td>\n",
       "    </tr>\n",
       "  </tbody>\n",
       "</table>\n",
       "</div>"
      ],
      "text/plain": [
       "   label                                           pos_tags  X Ratio  \\\n",
       "1      0  [PRON, AUX, VERB, NOUN, NOUN, VERB, ADP, PROPN...   0.0000   \n",
       "\n",
       "   DET Ratio  VERB Ratio  NOUN Ratio  INTJ Ratio  ADP Ratio  AUX Ratio  \\\n",
       "1     0.0000      0.1333      0.2667      0.0000     0.0667     0.0667   \n",
       "\n",
       "   PART Ratio  SPACE Ratio  CCONJ Ratio  PRON Ratio  SCONJ Ratio  SYM Ratio  \\\n",
       "1      0.0000       0.0000       0.0000      0.0667       0.0667     0.0000   \n",
       "\n",
       "   ADJ Ratio  PROPN Ratio  ADV Ratio  PUNCT Ratio  NUM Ratio  \n",
       "1     0.1333       0.0667     0.0667       0.0667     0.0000  "
      ]
     },
     "execution_count": 293,
     "metadata": {},
     "output_type": "execute_result"
    }
   ],
   "source": [
    "pos_df.iloc[[1]]"
   ]
  },
  {
   "cell_type": "code",
   "execution_count": 256,
   "metadata": {},
   "outputs": [
    {
     "data": {
      "text/html": [
       "<div>\n",
       "<style scoped>\n",
       "    .dataframe tbody tr th:only-of-type {\n",
       "        vertical-align: middle;\n",
       "    }\n",
       "\n",
       "    .dataframe tbody tr th {\n",
       "        vertical-align: top;\n",
       "    }\n",
       "\n",
       "    .dataframe thead th {\n",
       "        text-align: right;\n",
       "    }\n",
       "</style>\n",
       "<table border=\"1\" class=\"dataframe\">\n",
       "  <thead>\n",
       "    <tr style=\"text-align: right;\">\n",
       "      <th></th>\n",
       "      <th>Non-sarcastic</th>\n",
       "      <th>Sarcastic</th>\n",
       "      <th>difference</th>\n",
       "    </tr>\n",
       "  </thead>\n",
       "  <tbody>\n",
       "    <tr>\n",
       "      <th>PUNCT Ratio</th>\n",
       "      <td>0.1366</td>\n",
       "      <td>0.1178</td>\n",
       "      <td>0.0188</td>\n",
       "    </tr>\n",
       "    <tr>\n",
       "      <th>PROPN Ratio</th>\n",
       "      <td>0.0890</td>\n",
       "      <td>0.0732</td>\n",
       "      <td>0.0158</td>\n",
       "    </tr>\n",
       "    <tr>\n",
       "      <th>VERB Ratio</th>\n",
       "      <td>0.1133</td>\n",
       "      <td>0.1232</td>\n",
       "      <td>0.0098</td>\n",
       "    </tr>\n",
       "    <tr>\n",
       "      <th>ADJ Ratio</th>\n",
       "      <td>0.0624</td>\n",
       "      <td>0.0693</td>\n",
       "      <td>0.0069</td>\n",
       "    </tr>\n",
       "    <tr>\n",
       "      <th>DET Ratio</th>\n",
       "      <td>0.0867</td>\n",
       "      <td>0.0934</td>\n",
       "      <td>0.0067</td>\n",
       "    </tr>\n",
       "    <tr>\n",
       "      <th>AUX Ratio</th>\n",
       "      <td>0.0625</td>\n",
       "      <td>0.0685</td>\n",
       "      <td>0.0060</td>\n",
       "    </tr>\n",
       "    <tr>\n",
       "      <th>NUM Ratio</th>\n",
       "      <td>0.0141</td>\n",
       "      <td>0.0098</td>\n",
       "      <td>0.0043</td>\n",
       "    </tr>\n",
       "    <tr>\n",
       "      <th>ADP Ratio</th>\n",
       "      <td>0.0559</td>\n",
       "      <td>0.0518</td>\n",
       "      <td>0.0041</td>\n",
       "    </tr>\n",
       "    <tr>\n",
       "      <th>SCONJ Ratio</th>\n",
       "      <td>0.0168</td>\n",
       "      <td>0.0201</td>\n",
       "      <td>0.0034</td>\n",
       "    </tr>\n",
       "    <tr>\n",
       "      <th>PART Ratio</th>\n",
       "      <td>0.0259</td>\n",
       "      <td>0.0293</td>\n",
       "      <td>0.0033</td>\n",
       "    </tr>\n",
       "    <tr>\n",
       "      <th>PRON Ratio</th>\n",
       "      <td>0.0816</td>\n",
       "      <td>0.0845</td>\n",
       "      <td>0.0028</td>\n",
       "    </tr>\n",
       "    <tr>\n",
       "      <th>INTJ Ratio</th>\n",
       "      <td>0.0196</td>\n",
       "      <td>0.0222</td>\n",
       "      <td>0.0026</td>\n",
       "    </tr>\n",
       "    <tr>\n",
       "      <th>CCONJ Ratio</th>\n",
       "      <td>0.0188</td>\n",
       "      <td>0.0210</td>\n",
       "      <td>0.0022</td>\n",
       "    </tr>\n",
       "    <tr>\n",
       "      <th>ADV Ratio</th>\n",
       "      <td>0.0616</td>\n",
       "      <td>0.0636</td>\n",
       "      <td>0.0019</td>\n",
       "    </tr>\n",
       "    <tr>\n",
       "      <th>X Ratio</th>\n",
       "      <td>0.0030</td>\n",
       "      <td>0.0013</td>\n",
       "      <td>0.0017</td>\n",
       "    </tr>\n",
       "    <tr>\n",
       "      <th>SYM Ratio</th>\n",
       "      <td>0.0028</td>\n",
       "      <td>0.0018</td>\n",
       "      <td>0.0010</td>\n",
       "    </tr>\n",
       "    <tr>\n",
       "      <th>NOUN Ratio</th>\n",
       "      <td>0.1492</td>\n",
       "      <td>0.1493</td>\n",
       "      <td>0.0001</td>\n",
       "    </tr>\n",
       "    <tr>\n",
       "      <th>SPACE Ratio</th>\n",
       "      <td>0.0000</td>\n",
       "      <td>0.0000</td>\n",
       "      <td>0.0000</td>\n",
       "    </tr>\n",
       "  </tbody>\n",
       "</table>\n",
       "</div>"
      ],
      "text/plain": [
       "             Non-sarcastic  Sarcastic  difference\n",
       "PUNCT Ratio         0.1366     0.1178      0.0188\n",
       "PROPN Ratio         0.0890     0.0732      0.0158\n",
       "VERB Ratio          0.1133     0.1232      0.0098\n",
       "ADJ Ratio           0.0624     0.0693      0.0069\n",
       "DET Ratio           0.0867     0.0934      0.0067\n",
       "AUX Ratio           0.0625     0.0685      0.0060\n",
       "NUM Ratio           0.0141     0.0098      0.0043\n",
       "ADP Ratio           0.0559     0.0518      0.0041\n",
       "SCONJ Ratio         0.0168     0.0201      0.0034\n",
       "PART Ratio          0.0259     0.0293      0.0033\n",
       "PRON Ratio          0.0816     0.0845      0.0028\n",
       "INTJ Ratio          0.0196     0.0222      0.0026\n",
       "CCONJ Ratio         0.0188     0.0210      0.0022\n",
       "ADV Ratio           0.0616     0.0636      0.0019\n",
       "X Ratio             0.0030     0.0013      0.0017\n",
       "SYM Ratio           0.0028     0.0018      0.0010\n",
       "NOUN Ratio          0.1492     0.1493      0.0001\n",
       "SPACE Ratio         0.0000     0.0000      0.0000"
      ]
     },
     "execution_count": 256,
     "metadata": {},
     "output_type": "execute_result"
    }
   ],
   "source": [
    "cols = list(pos_df)\n",
    "cols.remove('label')\n",
    "\n",
    "pos_mean = pos_df[cols].groupby(pos_df['label']).mean().transpose()\n",
    "pos_mean.columns = ['Non-sarcastic', 'Sarcastic']\n",
    "pos_mean['difference'] = (pos_mean['Non-sarcastic'] - pos_mean['Sarcastic']).abs()\n",
    "pos_mean.sort_values(by=['difference'], ascending=False)"
   ]
  },
  {
   "cell_type": "markdown",
   "metadata": {},
   "source": [
    " "
   ]
  },
  {
   "cell_type": "markdown",
   "metadata": {},
   "source": [
    "**Named Entity Recognition**"
   ]
  },
  {
   "cell_type": "code",
   "execution_count": 261,
   "metadata": {
    "scrolled": true
   },
   "outputs": [
    {
     "name": "stdout",
     "output_type": "stream",
     "text": [
      "['EVENT', 'WORK_OF_ART', 'LOC', 'PERCENT', 'PRODUCT', 'ORDINAL', 'MONEY', 'LAW', 'DATE', 'QUANTITY', 'TIME', 'LANGUAGE', 'GPE', 'NORP', 'PERSON', 'FAC', 'CARDINAL', 'ORG']\n"
     ]
    }
   ],
   "source": [
    "# Get list of all NER tags in dataframe \n",
    "ner_list = list(set([*itertools.chain.from_iterable(reddit['ner_tags'])]))\n",
    "print(ner_list)"
   ]
  },
  {
   "cell_type": "code",
   "execution_count": 262,
   "metadata": {},
   "outputs": [
    {
     "data": {
      "text/html": [
       "<div>\n",
       "<style scoped>\n",
       "    .dataframe tbody tr th:only-of-type {\n",
       "        vertical-align: middle;\n",
       "    }\n",
       "\n",
       "    .dataframe tbody tr th {\n",
       "        vertical-align: top;\n",
       "    }\n",
       "\n",
       "    .dataframe thead th {\n",
       "        text-align: right;\n",
       "    }\n",
       "</style>\n",
       "<table border=\"1\" class=\"dataframe\">\n",
       "  <thead>\n",
       "    <tr style=\"text-align: right;\">\n",
       "      <th></th>\n",
       "      <th>label</th>\n",
       "      <th>ner_tags</th>\n",
       "    </tr>\n",
       "  </thead>\n",
       "  <tbody>\n",
       "    <tr>\n",
       "      <th>0</th>\n",
       "      <td>0</td>\n",
       "      <td>[GPE, GPE]</td>\n",
       "    </tr>\n",
       "    <tr>\n",
       "      <th>1</th>\n",
       "      <td>0</td>\n",
       "      <td>[]</td>\n",
       "    </tr>\n",
       "    <tr>\n",
       "      <th>2</th>\n",
       "      <td>0</td>\n",
       "      <td>[TIME, PERSON, TIME, GPE]</td>\n",
       "    </tr>\n",
       "    <tr>\n",
       "      <th>3</th>\n",
       "      <td>0</td>\n",
       "      <td>[GPE]</td>\n",
       "    </tr>\n",
       "    <tr>\n",
       "      <th>4</th>\n",
       "      <td>0</td>\n",
       "      <td>[]</td>\n",
       "    </tr>\n",
       "  </tbody>\n",
       "</table>\n",
       "</div>"
      ],
      "text/plain": [
       "   label                   ner_tags\n",
       "0      0                 [GPE, GPE]\n",
       "1      0                         []\n",
       "2      0  [TIME, PERSON, TIME, GPE]\n",
       "3      0                      [GPE]\n",
       "4      0                         []"
      ]
     },
     "execution_count": 262,
     "metadata": {},
     "output_type": "execute_result"
    }
   ],
   "source": [
    "ner_df = reddit[['label', 'ner_tags']].copy()\n",
    "ner_df.head()"
   ]
  },
  {
   "cell_type": "code",
   "execution_count": 264,
   "metadata": {},
   "outputs": [],
   "source": [
    "ner_nonsarcastic = [*itertools.chain.from_iterable(reddit[reddit['label']==1]['ner_tags'])]\n",
    "ner_sarcastic = [*itertools.chain.from_iterable(reddit[reddit['label']==0]['ner_tags'])]\n",
    "\n",
    "ner_nonsarcastic_count = collections.Counter(ner_nonsarcastic)\n",
    "ner_sarcastic_count = collections.Counter(ner_sarcastic)"
   ]
  },
  {
   "cell_type": "code",
   "execution_count": 266,
   "metadata": {},
   "outputs": [
    {
     "data": {
      "text/html": [
       "<div>\n",
       "<style scoped>\n",
       "    .dataframe tbody tr th:only-of-type {\n",
       "        vertical-align: middle;\n",
       "    }\n",
       "\n",
       "    .dataframe tbody tr th {\n",
       "        vertical-align: top;\n",
       "    }\n",
       "\n",
       "    .dataframe thead th {\n",
       "        text-align: right;\n",
       "    }\n",
       "</style>\n",
       "<table border=\"1\" class=\"dataframe\">\n",
       "  <thead>\n",
       "    <tr style=\"text-align: right;\">\n",
       "      <th></th>\n",
       "      <th>non_sarcastic</th>\n",
       "      <th>sarcastic</th>\n",
       "      <th>difference</th>\n",
       "    </tr>\n",
       "  </thead>\n",
       "  <tbody>\n",
       "    <tr>\n",
       "      <th>CARDINAL</th>\n",
       "      <td>33241</td>\n",
       "      <td>43136</td>\n",
       "      <td>9895</td>\n",
       "    </tr>\n",
       "    <tr>\n",
       "      <th>DATE</th>\n",
       "      <td>21067</td>\n",
       "      <td>29369</td>\n",
       "      <td>8302</td>\n",
       "    </tr>\n",
       "    <tr>\n",
       "      <th>NORP</th>\n",
       "      <td>21704</td>\n",
       "      <td>14424</td>\n",
       "      <td>7280</td>\n",
       "    </tr>\n",
       "    <tr>\n",
       "      <th>ORG</th>\n",
       "      <td>59666</td>\n",
       "      <td>64095</td>\n",
       "      <td>4429</td>\n",
       "    </tr>\n",
       "    <tr>\n",
       "      <th>PERSON</th>\n",
       "      <td>55829</td>\n",
       "      <td>60209</td>\n",
       "      <td>4380</td>\n",
       "    </tr>\n",
       "    <tr>\n",
       "      <th>ORDINAL</th>\n",
       "      <td>5779</td>\n",
       "      <td>8374</td>\n",
       "      <td>2595</td>\n",
       "    </tr>\n",
       "    <tr>\n",
       "      <th>TIME</th>\n",
       "      <td>3706</td>\n",
       "      <td>6079</td>\n",
       "      <td>2373</td>\n",
       "    </tr>\n",
       "    <tr>\n",
       "      <th>WORK_OF_ART</th>\n",
       "      <td>2911</td>\n",
       "      <td>4123</td>\n",
       "      <td>1212</td>\n",
       "    </tr>\n",
       "    <tr>\n",
       "      <th>PRODUCT</th>\n",
       "      <td>2943</td>\n",
       "      <td>4130</td>\n",
       "      <td>1187</td>\n",
       "    </tr>\n",
       "    <tr>\n",
       "      <th>FAC</th>\n",
       "      <td>1123</td>\n",
       "      <td>1508</td>\n",
       "      <td>385</td>\n",
       "    </tr>\n",
       "    <tr>\n",
       "      <th>QUANTITY</th>\n",
       "      <td>2067</td>\n",
       "      <td>2436</td>\n",
       "      <td>369</td>\n",
       "    </tr>\n",
       "    <tr>\n",
       "      <th>GPE</th>\n",
       "      <td>28144</td>\n",
       "      <td>27796</td>\n",
       "      <td>348</td>\n",
       "    </tr>\n",
       "    <tr>\n",
       "      <th>LOC</th>\n",
       "      <td>3892</td>\n",
       "      <td>3583</td>\n",
       "      <td>309</td>\n",
       "    </tr>\n",
       "    <tr>\n",
       "      <th>MONEY</th>\n",
       "      <td>3904</td>\n",
       "      <td>4187</td>\n",
       "      <td>283</td>\n",
       "    </tr>\n",
       "    <tr>\n",
       "      <th>PERCENT</th>\n",
       "      <td>3351</td>\n",
       "      <td>3584</td>\n",
       "      <td>233</td>\n",
       "    </tr>\n",
       "    <tr>\n",
       "      <th>EVENT</th>\n",
       "      <td>1121</td>\n",
       "      <td>1003</td>\n",
       "      <td>118</td>\n",
       "    </tr>\n",
       "    <tr>\n",
       "      <th>LAW</th>\n",
       "      <td>698</td>\n",
       "      <td>629</td>\n",
       "      <td>69</td>\n",
       "    </tr>\n",
       "    <tr>\n",
       "      <th>LANGUAGE</th>\n",
       "      <td>783</td>\n",
       "      <td>762</td>\n",
       "      <td>21</td>\n",
       "    </tr>\n",
       "  </tbody>\n",
       "</table>\n",
       "</div>"
      ],
      "text/plain": [
       "             non_sarcastic  sarcastic  difference\n",
       "CARDINAL             33241      43136        9895\n",
       "DATE                 21067      29369        8302\n",
       "NORP                 21704      14424        7280\n",
       "ORG                  59666      64095        4429\n",
       "PERSON               55829      60209        4380\n",
       "ORDINAL               5779       8374        2595\n",
       "TIME                  3706       6079        2373\n",
       "WORK_OF_ART           2911       4123        1212\n",
       "PRODUCT               2943       4130        1187\n",
       "FAC                   1123       1508         385\n",
       "QUANTITY              2067       2436         369\n",
       "GPE                  28144      27796         348\n",
       "LOC                   3892       3583         309\n",
       "MONEY                 3904       4187         283\n",
       "PERCENT               3351       3584         233\n",
       "EVENT                 1121       1003         118\n",
       "LAW                    698        629          69\n",
       "LANGUAGE               783        762          21"
      ]
     },
     "execution_count": 266,
     "metadata": {},
     "output_type": "execute_result"
    }
   ],
   "source": [
    "df_nonsarcastic_ner = pd.DataFrame.from_dict(ner_nonsarcastic_count, orient='index')\n",
    "\n",
    "df_sarcastic_ner = pd.DataFrame.from_dict(ner_sarcastic_count, orient='index')\n",
    "\n",
    "ner_count_df = pd.concat([df_nonsarcastic_ner, df_sarcastic_ner], axis=1).fillna(0)\n",
    "ner_count_df.columns = ['non_sarcastic', 'sarcastic']\n",
    "ner_count_df.iloc[:,0] = ner_count_df.iloc[:,0].astype('Int64')\n",
    "ner_count_df['difference'] = (ner_count_df['non_sarcastic'] - ner_count_df['sarcastic']).abs()\n",
    "ner_count_df.sort_values(by=['difference'], ascending=False)"
   ]
  },
  {
   "cell_type": "code",
   "execution_count": 321,
   "metadata": {},
   "outputs": [
    {
     "data": {
      "image/png": "[encoded data removed]",
      "text/plain": [
       "<Figure size 1080x504 with 1 Axes>"
      ]
     },
     "metadata": {
      "needs_background": "light"
     },
     "output_type": "display_data"
    }
   ],
   "source": [
    "# Melt df_count_df\n",
    "ner_count_melt = pd.melt(ner_count_df.reset_index(), id_vars='index', value_vars=['non_sarcastic','sarcastic'], var_name='label')\n",
    "ner_count_melt = ner_count_melt.sort_values(by=['value'], ascending=False)\n",
    "\n",
    "# Plot horizontal barplot\n",
    "fig,ax = plt.subplots(figsize=(15, 7))\n",
    "sns.barplot(x='value', y='index', hue='label', data=ner_count_melt)\n",
    "plt.title('Count of NER tags for Sarcastic and Non-Sarcastic Comments')\n",
    "plt.xlabel('Number of Tags')\n",
    "plt.ylabel('Entity');"
   ]
  },
  {
   "cell_type": "code",
   "execution_count": 273,
   "metadata": {},
   "outputs": [],
   "source": [
    "# Create dataframe to count tags in each column\n",
    "ner_df = reddit[['label', 'ner_tags']].copy()\n",
    "\n",
    "for each in ner_list:\n",
    "    ner_df[each+' count'] = ner_df['ner_tags'].apply(lambda x: len([ent for ent in x if ent == each]))"
   ]
  },
  {
   "cell_type": "code",
   "execution_count": 327,
   "metadata": {},
   "outputs": [
    {
     "data": {
      "text/html": [
       "<div>\n",
       "<style scoped>\n",
       "    .dataframe tbody tr th:only-of-type {\n",
       "        vertical-align: middle;\n",
       "    }\n",
       "\n",
       "    .dataframe tbody tr th {\n",
       "        vertical-align: top;\n",
       "    }\n",
       "\n",
       "    .dataframe thead th {\n",
       "        text-align: right;\n",
       "    }\n",
       "</style>\n",
       "<table border=\"1\" class=\"dataframe\">\n",
       "  <thead>\n",
       "    <tr style=\"text-align: right;\">\n",
       "      <th></th>\n",
       "      <th>label</th>\n",
       "      <th>ner_tags</th>\n",
       "      <th>EVENT count</th>\n",
       "      <th>WORK_OF_ART count</th>\n",
       "      <th>LOC count</th>\n",
       "      <th>PERCENT count</th>\n",
       "      <th>PRODUCT count</th>\n",
       "      <th>ORDINAL count</th>\n",
       "      <th>MONEY count</th>\n",
       "      <th>LAW count</th>\n",
       "      <th>DATE count</th>\n",
       "      <th>QUANTITY count</th>\n",
       "      <th>TIME count</th>\n",
       "      <th>LANGUAGE count</th>\n",
       "      <th>GPE count</th>\n",
       "      <th>NORP count</th>\n",
       "      <th>PERSON count</th>\n",
       "      <th>FAC count</th>\n",
       "      <th>CARDINAL count</th>\n",
       "      <th>ORG count</th>\n",
       "    </tr>\n",
       "  </thead>\n",
       "  <tbody>\n",
       "    <tr>\n",
       "      <th>0</th>\n",
       "      <td>0</td>\n",
       "      <td>[GPE, GPE]</td>\n",
       "      <td>0</td>\n",
       "      <td>0</td>\n",
       "      <td>0</td>\n",
       "      <td>0</td>\n",
       "      <td>0</td>\n",
       "      <td>0</td>\n",
       "      <td>0</td>\n",
       "      <td>0</td>\n",
       "      <td>0</td>\n",
       "      <td>0</td>\n",
       "      <td>0</td>\n",
       "      <td>0</td>\n",
       "      <td>2</td>\n",
       "      <td>0</td>\n",
       "      <td>0</td>\n",
       "      <td>0</td>\n",
       "      <td>0</td>\n",
       "      <td>0</td>\n",
       "    </tr>\n",
       "    <tr>\n",
       "      <th>1</th>\n",
       "      <td>0</td>\n",
       "      <td>[]</td>\n",
       "      <td>0</td>\n",
       "      <td>0</td>\n",
       "      <td>0</td>\n",
       "      <td>0</td>\n",
       "      <td>0</td>\n",
       "      <td>0</td>\n",
       "      <td>0</td>\n",
       "      <td>0</td>\n",
       "      <td>0</td>\n",
       "      <td>0</td>\n",
       "      <td>0</td>\n",
       "      <td>0</td>\n",
       "      <td>0</td>\n",
       "      <td>0</td>\n",
       "      <td>0</td>\n",
       "      <td>0</td>\n",
       "      <td>0</td>\n",
       "      <td>0</td>\n",
       "    </tr>\n",
       "    <tr>\n",
       "      <th>2</th>\n",
       "      <td>0</td>\n",
       "      <td>[TIME, PERSON, TIME, GPE]</td>\n",
       "      <td>0</td>\n",
       "      <td>0</td>\n",
       "      <td>0</td>\n",
       "      <td>0</td>\n",
       "      <td>0</td>\n",
       "      <td>0</td>\n",
       "      <td>0</td>\n",
       "      <td>0</td>\n",
       "      <td>0</td>\n",
       "      <td>0</td>\n",
       "      <td>2</td>\n",
       "      <td>0</td>\n",
       "      <td>1</td>\n",
       "      <td>0</td>\n",
       "      <td>1</td>\n",
       "      <td>0</td>\n",
       "      <td>0</td>\n",
       "      <td>0</td>\n",
       "    </tr>\n",
       "    <tr>\n",
       "      <th>3</th>\n",
       "      <td>0</td>\n",
       "      <td>[GPE]</td>\n",
       "      <td>0</td>\n",
       "      <td>0</td>\n",
       "      <td>0</td>\n",
       "      <td>0</td>\n",
       "      <td>0</td>\n",
       "      <td>0</td>\n",
       "      <td>0</td>\n",
       "      <td>0</td>\n",
       "      <td>0</td>\n",
       "      <td>0</td>\n",
       "      <td>0</td>\n",
       "      <td>0</td>\n",
       "      <td>1</td>\n",
       "      <td>0</td>\n",
       "      <td>0</td>\n",
       "      <td>0</td>\n",
       "      <td>0</td>\n",
       "      <td>0</td>\n",
       "    </tr>\n",
       "    <tr>\n",
       "      <th>4</th>\n",
       "      <td>0</td>\n",
       "      <td>[]</td>\n",
       "      <td>0</td>\n",
       "      <td>0</td>\n",
       "      <td>0</td>\n",
       "      <td>0</td>\n",
       "      <td>0</td>\n",
       "      <td>0</td>\n",
       "      <td>0</td>\n",
       "      <td>0</td>\n",
       "      <td>0</td>\n",
       "      <td>0</td>\n",
       "      <td>0</td>\n",
       "      <td>0</td>\n",
       "      <td>0</td>\n",
       "      <td>0</td>\n",
       "      <td>0</td>\n",
       "      <td>0</td>\n",
       "      <td>0</td>\n",
       "      <td>0</td>\n",
       "    </tr>\n",
       "  </tbody>\n",
       "</table>\n",
       "</div>"
      ],
      "text/plain": [
       "   label                   ner_tags  EVENT count  WORK_OF_ART count  \\\n",
       "0      0                 [GPE, GPE]            0                  0   \n",
       "1      0                         []            0                  0   \n",
       "2      0  [TIME, PERSON, TIME, GPE]            0                  0   \n",
       "3      0                      [GPE]            0                  0   \n",
       "4      0                         []            0                  0   \n",
       "\n",
       "   LOC count  PERCENT count  PRODUCT count  ORDINAL count  MONEY count  \\\n",
       "0          0              0              0              0            0   \n",
       "1          0              0              0              0            0   \n",
       "2          0              0              0              0            0   \n",
       "3          0              0              0              0            0   \n",
       "4          0              0              0              0            0   \n",
       "\n",
       "   LAW count  DATE count  QUANTITY count  TIME count  LANGUAGE count  \\\n",
       "0          0           0               0           0               0   \n",
       "1          0           0               0           0               0   \n",
       "2          0           0               0           2               0   \n",
       "3          0           0               0           0               0   \n",
       "4          0           0               0           0               0   \n",
       "\n",
       "   GPE count  NORP count  PERSON count  FAC count  CARDINAL count  ORG count  \n",
       "0          2           0             0          0               0          0  \n",
       "1          0           0             0          0               0          0  \n",
       "2          1           0             1          0               0          0  \n",
       "3          1           0             0          0               0          0  \n",
       "4          0           0             0          0               0          0  "
      ]
     },
     "execution_count": 327,
     "metadata": {},
     "output_type": "execute_result"
    }
   ],
   "source": [
    "ner_df.head()"
   ]
  },
  {
   "cell_type": "code",
   "execution_count": null,
   "metadata": {},
   "outputs": [],
   "source": []
  }
 ],
 "metadata": {
  "kernelspec": {
   "display_name": "Python 3",
   "language": "python",
   "name": "python3"
  },
  "language_info": {
   "codemirror_mode": {
    "name": "ipython",
    "version": 3
   },
   "file_extension": ".py",
   "mimetype": "text/x-python",
   "name": "python",
   "nbconvert_exporter": "python",
   "pygments_lexer": "ipython3",
   "version": "3.7.3"
  }
 },
 "nbformat": 4,
 "nbformat_minor": 2
}
